{
 "cells": [
  {
   "cell_type": "markdown",
   "metadata": {},
   "source": [
    "# Analyzing Data Using the FHIR Bulk Data Export API\n",
    "\n",
    "The Bulk Data API is still very early in it's development, which you can follow here: https://github.com/smart-on-fhir/bulk-data-server.git. \n",
    "\n",
    "In this notebook, we'll implement a very simple client that can access and download [FHIR bulk data](http://wiki.hl7.org/index.php?title=201801_Bulk_Data) from the [Demo SMART Bulk Data Server](https://bulk-data.smarthealthit.org). This notebook is based on a [FHIR Connectathon Project](https://github.com/plangthorne/python-fhir/blob/master/demo/BulkDataDemo.ipynb) that was also set up to implement simple authentication according to [SMART Authorization Guide protocol](http://docs.smarthealthit.org/authorization/backend-services/), but we're ignoring this aspect since it's a bit technical and out of scope for this class. "
   ]
  },
  {
   "cell_type": "markdown",
   "metadata": {},
   "source": [
    "## Initial Setup\n",
    "1. Download and install Anaconda: https://www.anaconda.com/distribution/\n",
    "\n",
    "2. Install the `requests` package: `pip install requests`\n",
    "\n",
    "3. Clone project from github: `git clone https://github.com/uw-fhir/bulk-fhir-tutorial.git`\n",
    "\n",
    "4. Open `bulk-fhir-tutorial.ipynb` in JupyterLab or Jupyter Notebook"
   ]
  },
  {
   "cell_type": "markdown",
   "metadata": {},
   "source": [
    "## Server Configuration\n",
    "\n",
    "We'll start by reading required config parameters, which define the FHIR server and other options. We'll be testing against the [Demo SMART Bulk Data Server](https://bulk-data.smarthealthit.org). "
   ]
  },
  {
   "cell_type": "code",
   "execution_count": 7,
   "metadata": {},
   "outputs": [
    {
     "data": {
      "text/plain": [
       "'https://bulk-data.smarthealthit.org/eyJlcnIiOiIiLCJwYWdlIjoxMDAwMCwiZHVyIjoxMCwidGx0IjoxNSwibSI6MTB9/fhir'"
      ]
     },
     "execution_count": 7,
     "metadata": {},
     "output_type": "execute_result"
    }
   ],
   "source": [
    "import yaml\n",
    "\n",
    "with open('config.yaml') as f:\n",
    "    config = yaml.load(f)"
   ]
  },
  {
   "cell_type": "markdown",
   "metadata": {},
   "source": [
    "# Generating a Data Analysis Pipeline\n",
    "\n",
    "Creating maintainable and comprehensive pipelines for data analysis - where the process becomes as automated as possible - is incredibly useful for rapid iteration, reprucibility, updates, clarity, and documentation purposes. (talk about it more). \n",
    "\n",
    "To create this type of pipeline, we want to be able to query for required data at the source, automatically transform and load this data into a suitable format, and load it into the desired analysis software. \n",
    "\n",
    "In this app, we'll demo this approach the nascent Bulk FHIR API and Python to\n",
    "1. Request at the data we want to analyze from the FHIR server\n",
    "2. Access and transform the data for analysis\n",
    "3. Analyze the data using R"
   ]
  },
  {
   "cell_type": "markdown",
   "metadata": {},
   "source": [
    "## 1. Dataset Exploration\n",
    "\n",
    "First, we're going to use the [SMART Patient Browser](https://patient-browser.smarthealthit.org/index.html?config=r3#/) tool to explore the patients and associated data. \n",
    "\n",
    "Click on the tool and play around with it a bit, clicking on the different listed [Patients](https://www.hl7.org/fhir/patient.html) and then exploring their associated FHIR Resources like [Immunizations](https://www.hl7.org/fhir/immunization.html) or [Encounters](https://www.hl7.org/fhir/encounter.html). "
   ]
  },
  {
   "cell_type": "markdown",
   "metadata": {},
   "source": [
    "## 2. Query Generation\n",
    "\n",
    "Now that we have a feel for the data, we need to decide what specific resources we're interested in and generate a query by using the proper [FHIR Bulk Data query parameters](https://github.com/smart-on-fhir/fhir-bulk-data-docs/blob/master/export.md#query-parameters). \n",
    "\n",
    "We can first try out our downloads by using a very simple tool made by the SMART folks - [The FHIR Bulk Downloader](https://bulk-data.smarthealthit.org/sample-app/index.html?server=https%3A%2F%2Fbulk-data.smarthealthit.org%2FeyJlcnIiOiIiLCJwYWdlIjoxMDAwMCwiZHVyIjoxMCwidGx0IjoxNSwibSI6MX0%2Ffhir)\n",
    "\n",
    "We'll focus on the Patient-level export since we're only interested in data that is in some way associated with a Patient (see https://github.com/smart-on-fhir/fhir-bulk-data-docs/blob/master/export.md#query-parameters for more information), and want to download resources that will be useful for analysis. \n",
    "\n",
    "In this example, I'll be looking at [Immunizations](https://www.hl7.org/fhir/immunization.html). \n",
    "\n",
    "1. Go to [The FHIR Bulk Downloader](https://bulk-data.smarthealthit.org/sample-app/index.html?server=https%3A%2F%2Fbulk-data.smarthealthit.org%2FeyJlcnIiOiIiLCJwYWdlIjoxMDAwMCwiZHVyIjoxMCwidGx0IjoxNSwibSI6MX0%2Ffhir)\n",
    "\n",
    "2. Select the desired resources, patient groups, and time frame. \n",
    "\n",
    "3. Notice how each selection modifies the download link url.\n",
    "\n",
    "4. Try modifying the url yourself using the available query parameters, and see what happens after pressing `Download`. \n",
    "   \n",
    "   For example, type this in: `https://bulk-data.smarthealthit.org/eyJlcnIiOiIiLCJwYWdlIjoxMDAwMCwiZHVyIjoxMCwidGx0IjoxNSwibSI6MX0/fhir/Patient/$export?_type=Patient,Immunization&_typeFilter=Immunization%3Fvaccine-code%3D140,Patient%3Fgender=female`\n",
    "   \n",
    "5. Note this generated url string for use later in the tutorial to get the desired dataset. I will be using the query above. "
   ]
  },
  {
   "cell_type": "markdown",
   "metadata": {},
   "source": [
    "## 3. Bulk Data Request\n",
    "\n",
    "Now that we know what query string we'll use to access our desired dataset, we can send a request to the FHIR endpoint which will tell the endpoint to start compiling the data we require. "
   ]
  },
  {
   "cell_type": "code",
   "execution_count": 42,
   "metadata": {},
   "outputs": [
    {
     "data": {
      "text/plain": [
       "<Response [202]>"
      ]
     },
     "metadata": {},
     "output_type": "display_data"
    },
    {
     "data": {
      "text/plain": [
       "'https://bulk-data.smarthealthit.org/eyJlcnIiOiIiLCJwYWdlIjoxMDAwMCwiZHVyIjoxMCwidGx0IjoxNSwibSI6MTB9/fhir/Patient/$export?_type=Patient,Immunization&_typeFilter=Patient?gender=female,Immunization?vaccine-code=140'"
      ]
     },
     "metadata": {},
     "output_type": "display_data"
    },
    {
     "data": {
      "text/plain": [
       "{'resourceType': 'OperationOutcome',\n",
       " 'text': {'status': 'generated',\n",
       "  'div': '<div xmlns=\"http://www.w3.org/1999/xhtml\"><h1>Operation Outcome</h1><table border=\"0\"><tr><td style=\"font-weight:bold;\">information</td><td>[]</td><td><pre>Your request have been accepted. You can check it\\'s status at &quot;https://bulk-data.smarthealthit.org/eyJlcnIiOiIiLCJwYWdlIjoxMDAwMCwiZHVyIjoxMCwidGx0IjoxNSwibSI6MTAsInR5cGUiOiJQYXRpZW50LEltbXVuaXphdGlvbiIsImlkIjoiNzNkOTQxMWU3NThkMjllY2I5NWI1ZWI5NzAyNTc5NjI4MDE0OTZmZTNmMzQwZjkwY2EyZmE4MzBjMjMxNTcwMCIsInJlcXVlc3RTdGFydCI6MTU0OTM0ODcwMjAzOCwic2VjdXJlIjpmYWxzZSwib3V0cHV0Rm9ybWF0IjoibmRqc29uIiwiZ3JvdXAiOm51bGwsInJlcXVlc3QiOiJodHRwOi8vYnVsay1kYXRhLnNtYXJ0aGVhbHRoaXQub3JnL2V5SmxjbklpT2lJaUxDSndZV2RsSWpveE1EQXdNQ3dpWkhWeUlqb3hNQ3dpZEd4MElqb3hOU3dpYlNJNk1UQjkvZmhpci9QYXRpZW50LyRleHBvcnQ_X3R5cGU9UGF0aWVudCxJbW11bml6YXRpb24mX3R5cGVGaWx0ZXI9UGF0aWVudD9nZW5kZXI9ZmVtYWxlLEltbXVuaXphdGlvbj92YWNjaW5lLWNvZGU9MTQwIn0/fhir/bulkstatus&quot;</pre></td></tr></table></div>'},\n",
       " 'issue': [{'severity': 'information',\n",
       "   'code': 'processing',\n",
       "   'diagnostics': 'Your request have been accepted. You can check it\\'s status at \"https://bulk-data.smarthealthit.org/eyJlcnIiOiIiLCJwYWdlIjoxMDAwMCwiZHVyIjoxMCwidGx0IjoxNSwibSI6MTAsInR5cGUiOiJQYXRpZW50LEltbXVuaXphdGlvbiIsImlkIjoiNzNkOTQxMWU3NThkMjllY2I5NWI1ZWI5NzAyNTc5NjI4MDE0OTZmZTNmMzQwZjkwY2EyZmE4MzBjMjMxNTcwMCIsInJlcXVlc3RTdGFydCI6MTU0OTM0ODcwMjAzOCwic2VjdXJlIjpmYWxzZSwib3V0cHV0Rm9ybWF0IjoibmRqc29uIiwiZ3JvdXAiOm51bGwsInJlcXVlc3QiOiJodHRwOi8vYnVsay1kYXRhLnNtYXJ0aGVhbHRoaXQub3JnL2V5SmxjbklpT2lJaUxDSndZV2RsSWpveE1EQXdNQ3dpWkhWeUlqb3hNQ3dpZEd4MElqb3hOU3dpYlNJNk1UQjkvZmhpci9QYXRpZW50LyRleHBvcnQ_X3R5cGU9UGF0aWVudCxJbW11bml6YXRpb24mX3R5cGVGaWx0ZXI9UGF0aWVudD9nZW5kZXI9ZmVtYWxlLEltbXVuaXphdGlvbj92YWNjaW5lLWNvZGU9MTQwIn0/fhir/bulkstatus\"'}]}"
      ]
     },
     "metadata": {},
     "output_type": "display_data"
    }
   ],
   "source": [
    "import requests\n",
    "import urllib\n",
    "\n",
    "fhir_endpoint = config[\"server\"]\n",
    "export_level = '/Patient/$export'\n",
    "types = [\"Patient\", \"Immunization\"]\n",
    "typeFilters = [\"Patient?gender=female\", \"Immunization?vaccine-code=140\"]\n",
    "\n",
    "headers = {'Accept': 'application/fhir+json', \"Prefer\": 'respond-async'}\n",
    "\n",
    "payload = {'_type': \",\".join(types), '_typeFilter': \",\".join(typeFilters)}\n",
    "payload_str = \"&\".join(\"%s=%s\" % (k,v) for k,v in payload.items())\n",
    "\n",
    "request_url = fhir_endpoint + export_level\n",
    "\n",
    "r = requests.get(request_url, headers=headers, params=payload_str)\n",
    "\n",
    "display(r)\n",
    "display(r.url)\n",
    "display(r.json())\n"
   ]
  },
  {
   "cell_type": "markdown",
   "metadata": {},
   "source": [
    "### Consume data\n",
    "\n",
    "Once the dataset is provisioned we can iterate through the resources in the bulk data set. The client leaves most data  on the remote server and waits to retrieve subsequent files until the previous file in the manifest is consumed."
   ]
  },
  {
   "cell_type": "code",
   "execution_count": 5,
   "metadata": {},
   "outputs": [
    {
     "data": {
      "text/plain": [
       "{u'activity': [{u'detail': {u'code': {u'coding': [{u'code': u'226234005',\n",
       "       u'display': u'Healthy diet',\n",
       "       u'system': u'http://snomed.info/sct'}]},\n",
       "    u'status': u'in-progress'}},\n",
       "  {u'detail': {u'code': {u'coding': [{u'code': u'703993001',\n",
       "       u'display': u'Colonoscopy planned',\n",
       "       u'system': u'http://snomed.info/sct'}]},\n",
       "    u'status': u'in-progress'}},\n",
       "  {u'detail': {u'code': {u'coding': [{u'code': u'243072006',\n",
       "       u'display': u'Cancer education',\n",
       "       u'system': u'http://snomed.info/sct'}]},\n",
       "    u'status': u'in-progress'}}],\n",
       " u'addresses': [{u'reference': u'urn:uuid:d4f83046-5f89-4378-96f4-4e15766f9d97'}],\n",
       " u'category': [{u'coding': [{u'code': u'395082007',\n",
       "     u'display': u'Cancer care plan',\n",
       "     u'system': u'http://snomed.info/sct'}]}],\n",
       " u'context': {u'reference': u'urn:uuid:334228ee-2228-43c4-bea3-438e83d73017'},\n",
       " u'intent': u'order',\n",
       " u'period': {u'start': u'2015-11-09'},\n",
       " u'resourceType': u'CarePlan',\n",
       " u'status': u'active',\n",
       " u'subject': {u'reference': u'urn:uuid:0b92cd9e-f063-4b20-a78e-84ff889c6d6c'}}"
      ]
     },
     "execution_count": 5,
     "metadata": {},
     "output_type": "execute_result"
    }
   ],
   "source": [
    "data = client.iter_json()\n",
    "next(data)"
   ]
  },
  {
   "cell_type": "markdown",
   "metadata": {},
   "source": [
    "### Cleanup\n",
    "\n",
    "We should close the connection in the underlying session prior to releasing the client. Alternatively the client also functions as a context manager for simplicity."
   ]
  },
  {
   "cell_type": "code",
   "execution_count": 6,
   "metadata": {},
   "outputs": [
    {
     "name": "stdout",
     "output_type": "stream",
     "text": [
      "True\n"
     ]
    }
   ],
   "source": [
    "client.session.close()\n",
    "\n",
    "with BulkDataClient(**config) as client:\n",
    "    client.provision()\n",
    "    print client.provisioned"
   ]
  }
 ],
 "metadata": {
  "kernelspec": {
   "display_name": "Python 3",
   "language": "python",
   "name": "python3"
  },
  "language_info": {
   "codemirror_mode": {
    "name": "ipython",
    "version": 3
   },
   "file_extension": ".py",
   "mimetype": "text/x-python",
   "name": "python",
   "nbconvert_exporter": "python",
   "pygments_lexer": "ipython3",
   "version": "3.7.1"
  }
 },
 "nbformat": 4,
 "nbformat_minor": 2
}
