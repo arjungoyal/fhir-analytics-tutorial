{
 "cells": [
  {
   "cell_type": "markdown",
   "metadata": {},
   "source": [
    "# Analyzing Data Using the FHIR Bulk Data Export API\n",
    "http://psb.re/bulk-fhir-tut\n",
    "\n",
    "The Bulk Data API is still very early in it's development, which you can follow here: https://github.com/smart-on-fhir/fhir-bulk-data-docs. \n",
    "\n",
    "In this notebook, we'll implement a very simple client that can access and download [FHIR bulk data](http://wiki.hl7.org/index.php?title=201801_Bulk_Data) from the [Demo SMART Bulk Data Server](https://bulk-data.smarthealthit.org). This notebook is based on a [FHIR Connectathon Project](https://github.com/plangthorne/python-fhir/blob/master/demo/BulkDataDemo.ipynb) that was also set up to implement simple authentication according to [SMART Authorization Guide protocol](http://docs.smarthealthit.org/authorization/backend-services/), but we're ignoring this aspect since it's a bit technical and out of scope for this class. "
   ]
  },
  {
   "cell_type": "markdown",
   "metadata": {},
   "source": [
    "## Motivation: Generate a Data Analysis Pipeline\n",
    "\n",
    "Creating maintainable and comprehensive pipelines for data analysis - where the process is as automated and parameterized as possible - is incredibly useful in research, with benefits including:\n",
    "\n",
    "- rapid iteration\n",
    "- reprucibility\n",
    "- collaboration\n",
    "- easier updates\n",
    "- clarity\n",
    "- debugging\n",
    "- documentation\n",
    " \n",
    "Also, pipelines can be used as great starting points for building more generalizable automated tools. \n",
    "\n",
    "To make such a pipeline for analyzing EHR data, we want to to able to write code to: \n",
    "1. Query the data source for the desired data\n",
    "2. Transform this data into a format suitable for analysis\n",
    "3. Analyze it with the desired data analysis software\n",
    "\n",
    "\n",
    "In this tutorial, we'll demo this approach using the nascent Bulk FHIR API and Python to\n",
    "1. Request the data we want to analyze from the FHIR server\n",
    "2. Access and transform the data for analysis using [pandas](https://pandas.pydata.org/)"
   ]
  },
  {
   "cell_type": "markdown",
   "metadata": {},
   "source": [
    "## Scenario: Patient Vaccination Analysis\n",
    "\n",
    "Since we're currently limited to a synthetic dataset and a nascent API that's at the early stages of development, the scenario we will use is - by necessity - a bit contrived.  \n",
    "\n",
    "We're going to focus on two specific resources - [Patients](https://www.hl7.org/fhir/patient.html) and [Immunizations](https://www.hl7.org/fhir/immunization.html) to investigate vaccination rates in our Patient pool. \n",
    "\n",
    "Feel free to adapt this example to your own scenario with a focus on other resources. "
   ]
  },
  {
   "cell_type": "markdown",
   "metadata": {},
   "source": [
    "\n",
    "\n",
    "## Initial Setup\n",
    "1. Download and install Anaconda: https://www.anaconda.com/distribution/\n",
    "\n",
    "2. Install the [requests](http://docs.python-requests.org/en/master/), [numpy](https://pypi.org/project/numpy/), [pandas](https://pandas.pydata.org/), and [matplotlib](https://matplotlib.org/) packages: `conda install requests pandas numpy matplotlib`.\n",
    "\n",
    "3. Clone project from github: `git clone https://github.com/uw-fhir/bulk-fhir-tutorial.git`\n",
    "\n",
    "4. Open `bulk-fhir-tutorial.ipynb` in JupyterLab or Jupyter Notebook"
   ]
  },
  {
   "cell_type": "markdown",
   "metadata": {},
   "source": [
    "## Server Configuration\n",
    "\n",
    "We'll start by reading required config parameters, which define the FHIR server and other options. We'll be testing against the [demo SMART Bulk Data Server](https://bulk-data.smarthealthit.org). "
   ]
  },
  {
   "cell_type": "code",
   "execution_count": 2,
   "metadata": {
    "collapsed": true
   },
   "outputs": [],
   "source": [
    "import yaml\n",
    "    \n",
    "with open('config.yaml') as f:\n",
    "    config = yaml.load(f)"
   ]
  },
  {
   "cell_type": "markdown",
   "metadata": {},
   "source": [
    "## 1. Explore the Dataset\n",
    "\n",
    "First, we're going to use the [SMART Patient Browser](https://patient-browser.smarthealthit.org/index.html?config=r3#/) tool to explore the patients and associated data. \n",
    "\n",
    "Click on the tool and play around with it a bit, clicking on the different listed [Patients](https://www.hl7.org/fhir/patient.html) and then exploring their associated FHIR Resources like [Immunizations](https://www.hl7.org/fhir/immunization.html) or [Encounters](https://www.hl7.org/fhir/encounter.html). "
   ]
  },
  {
   "cell_type": "markdown",
   "metadata": {},
   "source": [
    "## 2. Generate the Query\n",
    "\n",
    "Now that we have a feel for the data, we need to decide what specific resources we're interested in and generate a query by using the proper [FHIR Bulk Data query parameters](https://github.com/smart-on-fhir/fhir-bulk-data-docs/blob/master/export.md#query-parameters). \n",
    "\n",
    "We can first try out our downloads by using a very simple tool made by the SMART folks - [The FHIR Bulk Downloader](https://bulk-data.smarthealthit.org/sample-app/index.html?server=https%3A%2F%2Fbulk-data.smarthealthit.org%2FeyJlcnIiOiIiLCJwYWdlIjoxMDAwMCwiZHVyIjoxMCwidGx0IjoxNSwibSI6MX0%2Ffhir)\n",
    "\n",
    "We'll focus on the Patient-level export since we're only interested in data that is in some way associated with a Patient (see https://github.com/smart-on-fhir/fhir-bulk-data-docs/blob/master/export.md#query-parameters for more information), and want to download resources that will be useful for analysis. \n",
    "\n",
    "In this example, we'll be looking at [Immunizations](https://www.hl7.org/fhir/immunization.html). \n",
    "\n",
    "1. Go to [The FHIR Bulk Downloader](https://bulk-data.smarthealthit.org/sample-app/index.html?server=https%3A%2F%2Fbulk-data.smarthealthit.org%2FeyJlcnIiOiIiLCJwYWdlIjoxMDAwMCwiZHVyIjoxMCwidGx0IjoxNSwibSI6MX0%2Ffhir)\n",
    "\n",
    "2. Select the desired resources, patient groups, and time frame. \n",
    "\n",
    "3. Notice how each selection modifies the download link url.\n",
    "\n",
    "4. Try modifying the url yourself using the available query parameters, and see what happens after pressing `Download`. \n",
    "   \n",
    "   For example, type this in: `https://bulk-data.smarthealthit.org/eyJlcnIiOiIiLCJwYWdlIjoxMDAwMCwiZHVyIjoxMCwidGx0IjoxNSwibSI6MX0/fhir/Patient/$export?_type=Patient,Immunization&_typeFilter=Immunization%3Fvaccine-code%3D140,Patient%3Fgender=female`\n",
    "   \n",
    "5. Note this generated url string for use later in the tutorial to get the desired dataset. I will be using the query above. "
   ]
  },
  {
   "cell_type": "markdown",
   "metadata": {},
   "source": [
    "## 3. Send Bulk Data Request\n",
    "\n",
    "Now that we know what query string we'll use to access our desired dataset, we can send a request to the FHIR endpoint which will tell the endpoint to start compiling the data we require. \n",
    "\n",
    "See https://pasteapp.com/p/Ggufyqh11of/s/haevhk9l for an overview of the flow being executed here. "
   ]
  },
  {
   "cell_type": "code",
   "execution_count": 3,
   "metadata": {},
   "outputs": [
    {
     "data": {
      "text/plain": [
       "'_type=Patient,Immunization&_typeFilter=Immunization%3Fvaccine-code%3D140,Patient%3Fgender=female'"
      ]
     },
     "metadata": {},
     "output_type": "display_data"
    },
    {
     "data": {
      "text/plain": [
       "<Response [202]>"
      ]
     },
     "metadata": {},
     "output_type": "display_data"
    },
    {
     "data": {
      "text/plain": [
       "'https://bulk-data.smarthealthit.org/eyJlcnIiOiIiLCJwYWdlIjoxMDAwMCwiZHVyIjoxMCwidGx0IjoxNSwibSI6MX0/fhir/Patient/$export?_type=Patient,Immunization&_typeFilter=Immunization%3Fvaccine-code%3D140,Patient%3Fgender=female'"
      ]
     },
     "metadata": {},
     "output_type": "display_data"
    },
    {
     "data": {
      "text/plain": [
       "{'resourceType': 'OperationOutcome',\n",
       " 'text': {'status': 'generated',\n",
       "  'div': '<div xmlns=\"http://www.w3.org/1999/xhtml\"><h1>Operation Outcome</h1><table border=\"0\"><tr><td style=\"font-weight:bold;\">information</td><td>[]</td><td><pre>Your request have been accepted. You can check it\\'s status at &quot;https://bulk-data.smarthealthit.org/eyJlcnIiOiIiLCJwYWdlIjoxMDAwMCwiZHVyIjoxMCwidGx0IjoxNSwibSI6MSwidHlwZSI6IlBhdGllbnQsSW1tdW5pemF0aW9uIiwiaWQiOiI2YzBjYzljODFmY2VmYWUyNjExNWEyYzI5ZTU5MDM2YmE3Zjc2Yzg1MjIzMzljZGQyOTc4NGIyMjEzY2M1MGZlIiwicmVxdWVzdFN0YXJ0IjoxNTQ5NTc2Mzc5ODQxLCJzZWN1cmUiOmZhbHNlLCJvdXRwdXRGb3JtYXQiOiJuZGpzb24iLCJncm91cCI6bnVsbCwicmVxdWVzdCI6Imh0dHA6Ly9idWxrLWRhdGEuc21hcnRoZWFsdGhpdC5vcmcvZXlKbGNuSWlPaUlpTENKd1lXZGxJam94TURBd01Dd2laSFZ5SWpveE1Dd2lkR3gwSWpveE5Td2liU0k2TVgwL2ZoaXIvUGF0aWVudC8kZXhwb3J0P190eXBlPVBhdGllbnQsSW1tdW5pemF0aW9uJl90eXBlRmlsdGVyPUltbXVuaXphdGlvbiUzRnZhY2NpbmUtY29kZSUzRDE0MCxQYXRpZW50JTNGZ2VuZGVyPWZlbWFsZSJ9/fhir/bulkstatus&quot;</pre></td></tr></table></div>'},\n",
       " 'issue': [{'severity': 'information',\n",
       "   'code': 'processing',\n",
       "   'diagnostics': 'Your request have been accepted. You can check it\\'s status at \"https://bulk-data.smarthealthit.org/eyJlcnIiOiIiLCJwYWdlIjoxMDAwMCwiZHVyIjoxMCwidGx0IjoxNSwibSI6MSwidHlwZSI6IlBhdGllbnQsSW1tdW5pemF0aW9uIiwiaWQiOiI2YzBjYzljODFmY2VmYWUyNjExNWEyYzI5ZTU5MDM2YmE3Zjc2Yzg1MjIzMzljZGQyOTc4NGIyMjEzY2M1MGZlIiwicmVxdWVzdFN0YXJ0IjoxNTQ5NTc2Mzc5ODQxLCJzZWN1cmUiOmZhbHNlLCJvdXRwdXRGb3JtYXQiOiJuZGpzb24iLCJncm91cCI6bnVsbCwicmVxdWVzdCI6Imh0dHA6Ly9idWxrLWRhdGEuc21hcnRoZWFsdGhpdC5vcmcvZXlKbGNuSWlPaUlpTENKd1lXZGxJam94TURBd01Dd2laSFZ5SWpveE1Dd2lkR3gwSWpveE5Td2liU0k2TVgwL2ZoaXIvUGF0aWVudC8kZXhwb3J0P190eXBlPVBhdGllbnQsSW1tdW5pemF0aW9uJl90eXBlRmlsdGVyPUltbXVuaXphdGlvbiUzRnZhY2NpbmUtY29kZSUzRDE0MCxQYXRpZW50JTNGZ2VuZGVyPWZlbWFsZSJ9/fhir/bulkstatus\"'}]}"
      ]
     },
     "metadata": {},
     "output_type": "display_data"
    }
   ],
   "source": [
    "import requests\n",
    "import urllib\n",
    "\n",
    "fhir_endpoint = config[\"server\"]\n",
    "export_level = '/Patient/$export'\n",
    "types = [\"Patient\", \"Immunization\"]\n",
    "typeFilters = [\"Patient?gender=female\", \"Immunization?vaccine-code=140\"]\n",
    "\n",
    "headers = {'Accept': 'application/fhir+json', \"Prefer\": 'respond-async'}\n",
    "\n",
    "payload = {'_type': \",\".join(types), '_typeFilter': \",\".join(typeFilters)}\n",
    "payload_str = \"&\".join(\"%s=%s\" % (k,v) for k,v in payload.items())\n",
    "# temp\n",
    "payload_str = \"_type=Patient,Immunization&_typeFilter=Immunization%3Fvaccine-code%3D140,Patient%3Fgender=female\"\n",
    "\n",
    "request_url = fhir_endpoint + export_level\n",
    "\n",
    "r = requests.get(request_url, headers=headers, params=payload_str)\n",
    "\n",
    "display(payload_str)\n",
    "display(r)\n",
    "display(r.url)\n",
    "display(r.json())"
   ]
  },
  {
   "cell_type": "markdown",
   "metadata": {},
   "source": [
    "## 4. Wait for Data\n",
    "\n",
    "Now that the server is compiling the datasets, we need to wait until the endpoint is ready to send the data. We continuously query the provided location until the server is done."
   ]
  },
  {
   "cell_type": "code",
   "execution_count": 4,
   "metadata": {},
   "outputs": [
    {
     "data": {
      "text/plain": [
       "202"
      ]
     },
     "metadata": {},
     "output_type": "display_data"
    },
    {
     "data": {
      "text/plain": [
       "202"
      ]
     },
     "metadata": {},
     "output_type": "display_data"
    },
    {
     "data": {
      "text/plain": [
       "202"
      ]
     },
     "metadata": {},
     "output_type": "display_data"
    },
    {
     "data": {
      "text/plain": [
       "202"
      ]
     },
     "metadata": {},
     "output_type": "display_data"
    },
    {
     "data": {
      "text/plain": [
       "202"
      ]
     },
     "metadata": {},
     "output_type": "display_data"
    },
    {
     "data": {
      "text/plain": [
       "202"
      ]
     },
     "metadata": {},
     "output_type": "display_data"
    },
    {
     "data": {
      "text/plain": [
       "200"
      ]
     },
     "metadata": {},
     "output_type": "display_data"
    },
    {
     "data": {
      "text/plain": [
       "['https://bulk-data.smarthealthit.org/eyJlcnIiOiIiLCJwYWdlIjoxMDAwMCwiZHVyIjoxMCwidGx0IjoxNSwibSI6MSwidHlwZSI6IlBhdGllbnQsSW1tdW5pemF0aW9uIiwiaWQiOiI2YzBjYzljODFmY2VmYWUyNjExNWEyYzI5ZTU5MDM2YmE3Zjc2Yzg1MjIzMzljZGQyOTc4NGIyMjEzY2M1MGZlIiwicmVxdWVzdFN0YXJ0IjoxNTQ5NTc2Mzc5ODQxLCJzZWN1cmUiOmZhbHNlLCJvdXRwdXRGb3JtYXQiOiJuZGpzb24iLCJncm91cCI6bnVsbCwib2Zmc2V0IjowLCJsaW1pdCI6MTAwMDB9/fhir/bulkfiles/1.Immunization.ndjson',\n",
       " 'https://bulk-data.smarthealthit.org/eyJlcnIiOiIiLCJwYWdlIjoxMDAwMCwiZHVyIjoxMCwidGx0IjoxNSwibSI6MSwidHlwZSI6IlBhdGllbnQsSW1tdW5pemF0aW9uIiwiaWQiOiI2YzBjYzljODFmY2VmYWUyNjExNWEyYzI5ZTU5MDM2YmE3Zjc2Yzg1MjIzMzljZGQyOTc4NGIyMjEzY2M1MGZlIiwicmVxdWVzdFN0YXJ0IjoxNTQ5NTc2Mzc5ODQxLCJzZWN1cmUiOmZhbHNlLCJvdXRwdXRGb3JtYXQiOiJuZGpzb24iLCJncm91cCI6bnVsbCwib2Zmc2V0IjowLCJsaW1pdCI6MTAwMDB9/fhir/bulkfiles/1.Patient.ndjson']"
      ]
     },
     "metadata": {},
     "output_type": "display_data"
    }
   ],
   "source": [
    "from time import sleep\n",
    "\n",
    "def parse_manifest(response):\n",
    "    return [_.get('url') for _ in response.json()['output']]\n",
    "\n",
    "location = r.headers['Content-Location']\n",
    "\n",
    "while True:\n",
    "    sleep(0.5)\n",
    "    response = requests.get(location)\n",
    "    display(response.status_code)\n",
    "    if response.status_code == 200:\n",
    "        manifest = parse_manifest(response)\n",
    "        break\n",
    "    \n",
    "display(manifest)"
   ]
  },
  {
   "cell_type": "markdown",
   "metadata": {},
   "source": [
    "## Load and Transform the Data\n",
    "\n",
    "Now that we have access to both the patient and immunization data, we should load the data, link patients and vaccinations together, and transform it into a form suitable for analysis. \n"
   ]
  },
  {
   "cell_type": "code",
   "execution_count": 5,
   "metadata": {},
   "outputs": [
    {
     "data": {
      "text/plain": [
       "[<generator object iterate_over_json at 0x7f2da0d7bc00>,\n",
       " <generator object iterate_over_json at 0x7f2da003b2a0>]"
      ]
     },
     "execution_count": 5,
     "metadata": {},
     "output_type": "execute_result"
    }
   ],
   "source": [
    "import json\n",
    "\n",
    "def iterate_over_json(url):\n",
    "    data = requests.get(url)\n",
    "    for item in data.iter_lines():\n",
    "        yield json.loads(item)    \n",
    "\n",
    "json_data = list(map(iterate_over_json, manifest))\n",
    "\n",
    "json_data\n"
   ]
  },
  {
   "cell_type": "code",
   "execution_count": 6,
   "metadata": {
    "collapsed": true
   },
   "outputs": [],
   "source": [
    "import itertools as it\n",
    "import numpy as np\n",
    "import pandas as pd\n",
    "\n",
    "vaccinations = pd.DataFrame(list(json_data[0]))\n",
    "patients = pd.DataFrame(list(json_data[1]))"
   ]
  },
  {
   "cell_type": "code",
   "execution_count": 7,
   "metadata": {},
   "outputs": [
    {
     "data": {
      "text/html": [
       "<div>\n",
       "<style scoped>\n",
       "    .dataframe tbody tr th:only-of-type {\n",
       "        vertical-align: middle;\n",
       "    }\n",
       "\n",
       "    .dataframe tbody tr th {\n",
       "        vertical-align: top;\n",
       "    }\n",
       "\n",
       "    .dataframe thead th {\n",
       "        text-align: right;\n",
       "    }\n",
       "</style>\n",
       "<table border=\"1\" class=\"dataframe\">\n",
       "  <thead>\n",
       "    <tr style=\"text-align: right;\">\n",
       "      <th></th>\n",
       "      <th>active</th>\n",
       "      <th>address</th>\n",
       "      <th>birthDate</th>\n",
       "      <th>communication</th>\n",
       "      <th>deceasedDateTime</th>\n",
       "      <th>extension</th>\n",
       "      <th>gender</th>\n",
       "      <th>id</th>\n",
       "      <th>identifier</th>\n",
       "      <th>managingOrganization</th>\n",
       "      <th>maritalStatus</th>\n",
       "      <th>meta</th>\n",
       "      <th>multipleBirthBoolean</th>\n",
       "      <th>multipleBirthInteger</th>\n",
       "      <th>name</th>\n",
       "      <th>resourceType</th>\n",
       "      <th>telecom</th>\n",
       "      <th>text</th>\n",
       "    </tr>\n",
       "  </thead>\n",
       "  <tbody>\n",
       "    <tr>\n",
       "      <th>0</th>\n",
       "      <td>NaN</td>\n",
       "      <td>[{'extension': [{'url': 'http://hl7.org/fhir/S...</td>\n",
       "      <td>1938-02-19</td>\n",
       "      <td>[{'language': {'coding': [{'system': 'urn:ietf...</td>\n",
       "      <td>2014-10-11T16:33:20+00:00</td>\n",
       "      <td>[{'url': 'http://hl7.org/fhir/us/core/Structur...</td>\n",
       "      <td>female</td>\n",
       "      <td>ddf5ae5c-5646-4a76-9efd-f7e697f3b728</td>\n",
       "      <td>[{'system': 'https://github.com/synthetichealt...</td>\n",
       "      <td>NaN</td>\n",
       "      <td>{'coding': [{'system': 'http://hl7.org/fhir/v3...</td>\n",
       "      <td>NaN</td>\n",
       "      <td>False</td>\n",
       "      <td>NaN</td>\n",
       "      <td>[{'use': 'official', 'family': 'Pedroza', 'giv...</td>\n",
       "      <td>Patient</td>\n",
       "      <td>[{'system': 'phone', 'value': '555-146-4994', ...</td>\n",
       "      <td>{'status': 'generated', 'div': '&lt;div xmlns=\"ht...</td>\n",
       "    </tr>\n",
       "    <tr>\n",
       "      <th>1</th>\n",
       "      <td>NaN</td>\n",
       "      <td>[{'extension': [{'url': 'http://hl7.org/fhir/S...</td>\n",
       "      <td>1990-09-08</td>\n",
       "      <td>[{'language': {'coding': [{'system': 'http://i...</td>\n",
       "      <td>NaN</td>\n",
       "      <td>[{'url': 'http://hl7.org/fhir/us/core/Structur...</td>\n",
       "      <td>female</td>\n",
       "      <td>3c9a0fe6-156a-4190-ae6b-ebb6f07e52cf</td>\n",
       "      <td>[{'system': 'https://github.com/synthetichealt...</td>\n",
       "      <td>NaN</td>\n",
       "      <td>{'coding': [{'system': 'http://hl7.org/fhir/v3...</td>\n",
       "      <td>NaN</td>\n",
       "      <td>NaN</td>\n",
       "      <td>3.0</td>\n",
       "      <td>[{'use': 'official', 'family': 'Corkery', 'giv...</td>\n",
       "      <td>Patient</td>\n",
       "      <td>[{'system': 'phone', 'value': '555-606-9603', ...</td>\n",
       "      <td>{'status': 'generated', 'div': '&lt;div xmlns=\"ht...</td>\n",
       "    </tr>\n",
       "    <tr>\n",
       "      <th>2</th>\n",
       "      <td>NaN</td>\n",
       "      <td>[{'extension': [{'url': 'http://hl7.org/fhir/S...</td>\n",
       "      <td>1971-07-09</td>\n",
       "      <td>[{'language': {'coding': [{'system': 'urn:ietf...</td>\n",
       "      <td>NaN</td>\n",
       "      <td>[{'url': 'http://hl7.org/fhir/us/core/Structur...</td>\n",
       "      <td>male</td>\n",
       "      <td>6f8f470e-07e8-4273-ad11-6e3fdc384a09</td>\n",
       "      <td>[{'system': 'https://github.com/synthetichealt...</td>\n",
       "      <td>NaN</td>\n",
       "      <td>{'coding': [{'system': 'http://hl7.org/fhir/v3...</td>\n",
       "      <td>NaN</td>\n",
       "      <td>False</td>\n",
       "      <td>NaN</td>\n",
       "      <td>[{'use': 'official', 'family': 'Jacobi', 'give...</td>\n",
       "      <td>Patient</td>\n",
       "      <td>[{'system': 'phone', 'value': '555-577-7481', ...</td>\n",
       "      <td>{'status': 'generated', 'div': '&lt;div xmlns=\"ht...</td>\n",
       "    </tr>\n",
       "    <tr>\n",
       "      <th>3</th>\n",
       "      <td>NaN</td>\n",
       "      <td>[{'extension': [{'url': 'http://hl7.org/fhir/S...</td>\n",
       "      <td>1955-10-17</td>\n",
       "      <td>[{'language': {'coding': [{'system': 'urn:ietf...</td>\n",
       "      <td>NaN</td>\n",
       "      <td>[{'url': 'http://hl7.org/fhir/us/core/Structur...</td>\n",
       "      <td>female</td>\n",
       "      <td>f642778a-a527-4c85-b6fa-3d37745d9957</td>\n",
       "      <td>[{'system': 'https://github.com/synthetichealt...</td>\n",
       "      <td>NaN</td>\n",
       "      <td>{'coding': [{'system': 'http://hl7.org/fhir/v3...</td>\n",
       "      <td>NaN</td>\n",
       "      <td>False</td>\n",
       "      <td>NaN</td>\n",
       "      <td>[{'use': 'official', 'family': 'Graham', 'give...</td>\n",
       "      <td>Patient</td>\n",
       "      <td>[{'system': 'phone', 'value': '555-880-9873', ...</td>\n",
       "      <td>{'status': 'generated', 'div': '&lt;div xmlns=\"ht...</td>\n",
       "    </tr>\n",
       "    <tr>\n",
       "      <th>4</th>\n",
       "      <td>NaN</td>\n",
       "      <td>[{'extension': [{'url': 'http://hl7.org/fhir/S...</td>\n",
       "      <td>1957-06-11</td>\n",
       "      <td>[{'language': {'coding': [{'system': 'urn:ietf...</td>\n",
       "      <td>NaN</td>\n",
       "      <td>[{'url': 'http://hl7.org/fhir/us/core/Structur...</td>\n",
       "      <td>male</td>\n",
       "      <td>8ada3b39-0359-4209-9b30-5fb430ad4355</td>\n",
       "      <td>[{'system': 'https://github.com/synthetichealt...</td>\n",
       "      <td>NaN</td>\n",
       "      <td>{'coding': [{'system': 'http://hl7.org/fhir/v3...</td>\n",
       "      <td>NaN</td>\n",
       "      <td>False</td>\n",
       "      <td>NaN</td>\n",
       "      <td>[{'use': 'official', 'family': 'Bayer', 'given...</td>\n",
       "      <td>Patient</td>\n",
       "      <td>[{'system': 'phone', 'value': '555-856-6415', ...</td>\n",
       "      <td>{'status': 'generated', 'div': '&lt;div xmlns=\"ht...</td>\n",
       "    </tr>\n",
       "  </tbody>\n",
       "</table>\n",
       "</div>"
      ],
      "text/plain": [
       "  active                                            address   birthDate  \\\n",
       "0    NaN  [{'extension': [{'url': 'http://hl7.org/fhir/S...  1938-02-19   \n",
       "1    NaN  [{'extension': [{'url': 'http://hl7.org/fhir/S...  1990-09-08   \n",
       "2    NaN  [{'extension': [{'url': 'http://hl7.org/fhir/S...  1971-07-09   \n",
       "3    NaN  [{'extension': [{'url': 'http://hl7.org/fhir/S...  1955-10-17   \n",
       "4    NaN  [{'extension': [{'url': 'http://hl7.org/fhir/S...  1957-06-11   \n",
       "\n",
       "                                       communication  \\\n",
       "0  [{'language': {'coding': [{'system': 'urn:ietf...   \n",
       "1  [{'language': {'coding': [{'system': 'http://i...   \n",
       "2  [{'language': {'coding': [{'system': 'urn:ietf...   \n",
       "3  [{'language': {'coding': [{'system': 'urn:ietf...   \n",
       "4  [{'language': {'coding': [{'system': 'urn:ietf...   \n",
       "\n",
       "            deceasedDateTime  \\\n",
       "0  2014-10-11T16:33:20+00:00   \n",
       "1                        NaN   \n",
       "2                        NaN   \n",
       "3                        NaN   \n",
       "4                        NaN   \n",
       "\n",
       "                                           extension  gender  \\\n",
       "0  [{'url': 'http://hl7.org/fhir/us/core/Structur...  female   \n",
       "1  [{'url': 'http://hl7.org/fhir/us/core/Structur...  female   \n",
       "2  [{'url': 'http://hl7.org/fhir/us/core/Structur...    male   \n",
       "3  [{'url': 'http://hl7.org/fhir/us/core/Structur...  female   \n",
       "4  [{'url': 'http://hl7.org/fhir/us/core/Structur...    male   \n",
       "\n",
       "                                     id  \\\n",
       "0  ddf5ae5c-5646-4a76-9efd-f7e697f3b728   \n",
       "1  3c9a0fe6-156a-4190-ae6b-ebb6f07e52cf   \n",
       "2  6f8f470e-07e8-4273-ad11-6e3fdc384a09   \n",
       "3  f642778a-a527-4c85-b6fa-3d37745d9957   \n",
       "4  8ada3b39-0359-4209-9b30-5fb430ad4355   \n",
       "\n",
       "                                          identifier managingOrganization  \\\n",
       "0  [{'system': 'https://github.com/synthetichealt...                  NaN   \n",
       "1  [{'system': 'https://github.com/synthetichealt...                  NaN   \n",
       "2  [{'system': 'https://github.com/synthetichealt...                  NaN   \n",
       "3  [{'system': 'https://github.com/synthetichealt...                  NaN   \n",
       "4  [{'system': 'https://github.com/synthetichealt...                  NaN   \n",
       "\n",
       "                                       maritalStatus meta  \\\n",
       "0  {'coding': [{'system': 'http://hl7.org/fhir/v3...  NaN   \n",
       "1  {'coding': [{'system': 'http://hl7.org/fhir/v3...  NaN   \n",
       "2  {'coding': [{'system': 'http://hl7.org/fhir/v3...  NaN   \n",
       "3  {'coding': [{'system': 'http://hl7.org/fhir/v3...  NaN   \n",
       "4  {'coding': [{'system': 'http://hl7.org/fhir/v3...  NaN   \n",
       "\n",
       "  multipleBirthBoolean  multipleBirthInteger  \\\n",
       "0                False                   NaN   \n",
       "1                  NaN                   3.0   \n",
       "2                False                   NaN   \n",
       "3                False                   NaN   \n",
       "4                False                   NaN   \n",
       "\n",
       "                                                name resourceType  \\\n",
       "0  [{'use': 'official', 'family': 'Pedroza', 'giv...      Patient   \n",
       "1  [{'use': 'official', 'family': 'Corkery', 'giv...      Patient   \n",
       "2  [{'use': 'official', 'family': 'Jacobi', 'give...      Patient   \n",
       "3  [{'use': 'official', 'family': 'Graham', 'give...      Patient   \n",
       "4  [{'use': 'official', 'family': 'Bayer', 'given...      Patient   \n",
       "\n",
       "                                             telecom  \\\n",
       "0  [{'system': 'phone', 'value': '555-146-4994', ...   \n",
       "1  [{'system': 'phone', 'value': '555-606-9603', ...   \n",
       "2  [{'system': 'phone', 'value': '555-577-7481', ...   \n",
       "3  [{'system': 'phone', 'value': '555-880-9873', ...   \n",
       "4  [{'system': 'phone', 'value': '555-856-6415', ...   \n",
       "\n",
       "                                                text  \n",
       "0  {'status': 'generated', 'div': '<div xmlns=\"ht...  \n",
       "1  {'status': 'generated', 'div': '<div xmlns=\"ht...  \n",
       "2  {'status': 'generated', 'div': '<div xmlns=\"ht...  \n",
       "3  {'status': 'generated', 'div': '<div xmlns=\"ht...  \n",
       "4  {'status': 'generated', 'div': '<div xmlns=\"ht...  "
      ]
     },
     "execution_count": 7,
     "metadata": {},
     "output_type": "execute_result"
    }
   ],
   "source": [
    "patients.head()"
   ]
  },
  {
   "cell_type": "code",
   "execution_count": 8,
   "metadata": {},
   "outputs": [
    {
     "data": {
      "text/html": [
       "<div>\n",
       "<style scoped>\n",
       "    .dataframe tbody tr th:only-of-type {\n",
       "        vertical-align: middle;\n",
       "    }\n",
       "\n",
       "    .dataframe tbody tr th {\n",
       "        vertical-align: top;\n",
       "    }\n",
       "\n",
       "    .dataframe thead th {\n",
       "        text-align: right;\n",
       "    }\n",
       "</style>\n",
       "<table border=\"1\" class=\"dataframe\">\n",
       "  <thead>\n",
       "    <tr style=\"text-align: right;\">\n",
       "      <th></th>\n",
       "      <th>date</th>\n",
       "      <th>encounter</th>\n",
       "      <th>id</th>\n",
       "      <th>notGiven</th>\n",
       "      <th>patient</th>\n",
       "      <th>primarySource</th>\n",
       "      <th>resourceType</th>\n",
       "      <th>status</th>\n",
       "      <th>vaccineCode</th>\n",
       "    </tr>\n",
       "  </thead>\n",
       "  <tbody>\n",
       "    <tr>\n",
       "      <th>0</th>\n",
       "      <td>2005-04-23T16:33:20+00:00</td>\n",
       "      <td>{'reference': 'Encounter/0780aaee-2233-4ee2-90...</td>\n",
       "      <td>bc109526-a37d-4e28-89af-d6794e1ea5f3</td>\n",
       "      <td>False</td>\n",
       "      <td>{'reference': 'Patient/ddf5ae5c-5646-4a76-9efd...</td>\n",
       "      <td>True</td>\n",
       "      <td>Immunization</td>\n",
       "      <td>completed</td>\n",
       "      <td>{'coding': [{'system': 'http://hl7.org/fhir/si...</td>\n",
       "    </tr>\n",
       "    <tr>\n",
       "      <th>1</th>\n",
       "      <td>2006-04-29T16:33:20+00:00</td>\n",
       "      <td>{'reference': 'Encounter/1c093c58-6f5f-4da6-8d...</td>\n",
       "      <td>2334bd5e-0af2-417c-bb35-e70646a1d7ac</td>\n",
       "      <td>False</td>\n",
       "      <td>{'reference': 'Patient/ddf5ae5c-5646-4a76-9efd...</td>\n",
       "      <td>True</td>\n",
       "      <td>Immunization</td>\n",
       "      <td>completed</td>\n",
       "      <td>{'coding': [{'system': 'http://hl7.org/fhir/si...</td>\n",
       "    </tr>\n",
       "    <tr>\n",
       "      <th>2</th>\n",
       "      <td>2007-05-05T16:33:20+00:00</td>\n",
       "      <td>{'reference': 'Encounter/6f388fcc-a351-4c8e-a9...</td>\n",
       "      <td>2cb6d8c4-e385-415d-b413-ec407a768df3</td>\n",
       "      <td>False</td>\n",
       "      <td>{'reference': 'Patient/ddf5ae5c-5646-4a76-9efd...</td>\n",
       "      <td>True</td>\n",
       "      <td>Immunization</td>\n",
       "      <td>completed</td>\n",
       "      <td>{'coding': [{'system': 'http://hl7.org/fhir/si...</td>\n",
       "    </tr>\n",
       "    <tr>\n",
       "      <th>3</th>\n",
       "      <td>2008-05-10T16:33:20+00:00</td>\n",
       "      <td>{'reference': 'Encounter/f6d6b816-4b28-4f2a-94...</td>\n",
       "      <td>1b31e6bb-b457-4260-8d9c-bb1126129692</td>\n",
       "      <td>False</td>\n",
       "      <td>{'reference': 'Patient/ddf5ae5c-5646-4a76-9efd...</td>\n",
       "      <td>True</td>\n",
       "      <td>Immunization</td>\n",
       "      <td>completed</td>\n",
       "      <td>{'coding': [{'system': 'http://hl7.org/fhir/si...</td>\n",
       "    </tr>\n",
       "    <tr>\n",
       "      <th>4</th>\n",
       "      <td>2009-05-16T16:33:20+00:00</td>\n",
       "      <td>{'reference': 'Encounter/4b7fd5e7-31c0-4637-b2...</td>\n",
       "      <td>1ed98a36-9dd1-4776-a0b4-d7dea2616d10</td>\n",
       "      <td>False</td>\n",
       "      <td>{'reference': 'Patient/ddf5ae5c-5646-4a76-9efd...</td>\n",
       "      <td>True</td>\n",
       "      <td>Immunization</td>\n",
       "      <td>completed</td>\n",
       "      <td>{'coding': [{'system': 'http://hl7.org/fhir/si...</td>\n",
       "    </tr>\n",
       "  </tbody>\n",
       "</table>\n",
       "</div>"
      ],
      "text/plain": [
       "                        date  \\\n",
       "0  2005-04-23T16:33:20+00:00   \n",
       "1  2006-04-29T16:33:20+00:00   \n",
       "2  2007-05-05T16:33:20+00:00   \n",
       "3  2008-05-10T16:33:20+00:00   \n",
       "4  2009-05-16T16:33:20+00:00   \n",
       "\n",
       "                                           encounter  \\\n",
       "0  {'reference': 'Encounter/0780aaee-2233-4ee2-90...   \n",
       "1  {'reference': 'Encounter/1c093c58-6f5f-4da6-8d...   \n",
       "2  {'reference': 'Encounter/6f388fcc-a351-4c8e-a9...   \n",
       "3  {'reference': 'Encounter/f6d6b816-4b28-4f2a-94...   \n",
       "4  {'reference': 'Encounter/4b7fd5e7-31c0-4637-b2...   \n",
       "\n",
       "                                     id  notGiven  \\\n",
       "0  bc109526-a37d-4e28-89af-d6794e1ea5f3     False   \n",
       "1  2334bd5e-0af2-417c-bb35-e70646a1d7ac     False   \n",
       "2  2cb6d8c4-e385-415d-b413-ec407a768df3     False   \n",
       "3  1b31e6bb-b457-4260-8d9c-bb1126129692     False   \n",
       "4  1ed98a36-9dd1-4776-a0b4-d7dea2616d10     False   \n",
       "\n",
       "                                             patient  primarySource  \\\n",
       "0  {'reference': 'Patient/ddf5ae5c-5646-4a76-9efd...           True   \n",
       "1  {'reference': 'Patient/ddf5ae5c-5646-4a76-9efd...           True   \n",
       "2  {'reference': 'Patient/ddf5ae5c-5646-4a76-9efd...           True   \n",
       "3  {'reference': 'Patient/ddf5ae5c-5646-4a76-9efd...           True   \n",
       "4  {'reference': 'Patient/ddf5ae5c-5646-4a76-9efd...           True   \n",
       "\n",
       "   resourceType     status                                        vaccineCode  \n",
       "0  Immunization  completed  {'coding': [{'system': 'http://hl7.org/fhir/si...  \n",
       "1  Immunization  completed  {'coding': [{'system': 'http://hl7.org/fhir/si...  \n",
       "2  Immunization  completed  {'coding': [{'system': 'http://hl7.org/fhir/si...  \n",
       "3  Immunization  completed  {'coding': [{'system': 'http://hl7.org/fhir/si...  \n",
       "4  Immunization  completed  {'coding': [{'system': 'http://hl7.org/fhir/si...  "
      ]
     },
     "execution_count": 8,
     "metadata": {},
     "output_type": "execute_result"
    }
   ],
   "source": [
    "vaccinations.head()"
   ]
  },
  {
   "cell_type": "markdown",
   "metadata": {},
   "source": [
    "These look very much like the objects we explored in the [Patient](https://patient-browser.smarthealthit.org/index.html?config=r3#/patient/6) and [Object Viewers](http://docs.smarthealthit.org/fhir-viewer/index.html?url=https%3A%2F%2Fr3.smarthealthit.org%2FImmunization%2FRES177065).\n",
    "\n",
    "Now, we need to transform the data a bit to get at the bits we want to use in analysis:"
   ]
  },
  {
   "cell_type": "code",
   "execution_count": 13,
   "metadata": {},
   "outputs": [
    {
     "data": {
      "text/html": [
       "<div>\n",
       "<style scoped>\n",
       "    .dataframe tbody tr th:only-of-type {\n",
       "        vertical-align: middle;\n",
       "    }\n",
       "\n",
       "    .dataframe tbody tr th {\n",
       "        vertical-align: top;\n",
       "    }\n",
       "\n",
       "    .dataframe thead th {\n",
       "        text-align: right;\n",
       "    }\n",
       "</style>\n",
       "<table border=\"1\" class=\"dataframe\">\n",
       "  <thead>\n",
       "    <tr style=\"text-align: right;\">\n",
       "      <th></th>\n",
       "      <th>id</th>\n",
       "      <th>name</th>\n",
       "      <th>birthDate</th>\n",
       "      <th>gender</th>\n",
       "      <th>maritalStatus</th>\n",
       "      <th>address</th>\n",
       "    </tr>\n",
       "  </thead>\n",
       "  <tbody>\n",
       "    <tr>\n",
       "      <th>0</th>\n",
       "      <td>ddf5ae5c-5646-4a76-9efd-f7e697f3b728</td>\n",
       "      <td>Pedroza, Adriana</td>\n",
       "      <td>1938-02-19</td>\n",
       "      <td>female</td>\n",
       "      <td>M</td>\n",
       "      <td>Westborough, Massachusetts 01581</td>\n",
       "    </tr>\n",
       "    <tr>\n",
       "      <th>1</th>\n",
       "      <td>3c9a0fe6-156a-4190-ae6b-ebb6f07e52cf</td>\n",
       "      <td>Corkery, Akiko</td>\n",
       "      <td>1990-09-08</td>\n",
       "      <td>female</td>\n",
       "      <td>M</td>\n",
       "      <td>Westwood, Massachusetts</td>\n",
       "    </tr>\n",
       "    <tr>\n",
       "      <th>2</th>\n",
       "      <td>6f8f470e-07e8-4273-ad11-6e3fdc384a09</td>\n",
       "      <td>Jacobi, Alec</td>\n",
       "      <td>1971-07-09</td>\n",
       "      <td>male</td>\n",
       "      <td>M</td>\n",
       "      <td>Boston, Massachusetts 02108</td>\n",
       "    </tr>\n",
       "    <tr>\n",
       "      <th>3</th>\n",
       "      <td>f642778a-a527-4c85-b6fa-3d37745d9957</td>\n",
       "      <td>Graham, Aleta</td>\n",
       "      <td>1955-10-17</td>\n",
       "      <td>female</td>\n",
       "      <td>S</td>\n",
       "      <td>New Bedford, Massachusetts 02740</td>\n",
       "    </tr>\n",
       "    <tr>\n",
       "      <th>4</th>\n",
       "      <td>8ada3b39-0359-4209-9b30-5fb430ad4355</td>\n",
       "      <td>Bayer, Alex</td>\n",
       "      <td>1957-06-11</td>\n",
       "      <td>male</td>\n",
       "      <td>M</td>\n",
       "      <td>Brookline, Massachusetts 02215</td>\n",
       "    </tr>\n",
       "  </tbody>\n",
       "</table>\n",
       "</div>"
      ],
      "text/plain": [
       "                                     id              name   birthDate  gender  \\\n",
       "0  ddf5ae5c-5646-4a76-9efd-f7e697f3b728  Pedroza, Adriana  1938-02-19  female   \n",
       "1  3c9a0fe6-156a-4190-ae6b-ebb6f07e52cf    Corkery, Akiko  1990-09-08  female   \n",
       "2  6f8f470e-07e8-4273-ad11-6e3fdc384a09      Jacobi, Alec  1971-07-09    male   \n",
       "3  f642778a-a527-4c85-b6fa-3d37745d9957     Graham, Aleta  1955-10-17  female   \n",
       "4  8ada3b39-0359-4209-9b30-5fb430ad4355       Bayer, Alex  1957-06-11    male   \n",
       "\n",
       "  maritalStatus                           address  \n",
       "0             M  Westborough, Massachusetts 01581  \n",
       "1             M          Westwood, Massachusetts   \n",
       "2             M       Boston, Massachusetts 02108  \n",
       "3             S  New Bedford, Massachusetts 02740  \n",
       "4             M    Brookline, Massachusetts 02215  "
      ]
     },
     "execution_count": 13,
     "metadata": {},
     "output_type": "execute_result"
    }
   ],
   "source": [
    "def clean_vaccination(row):\n",
    "    # Re-order Rows\n",
    "    outrow = row[['id', 'date', 'patient', 'status', 'vaccineCode']]\n",
    "    # Extract nested patient id\n",
    "    outrow['patient'] = outrow['patient']['reference'].split('/')[1]\n",
    "    #print(row['patient'])\n",
    "    # Extract nested code value\n",
    "    outrow['vaccineCode'] = int(outrow['vaccineCode']['coding'][0]['code'])\n",
    "    return(outrow)\n",
    "\n",
    "def clean_patient(row):\n",
    "    # Select only a couple columns for simplicity and reorder them\n",
    "    outrow = row[['id', 'name', 'birthDate', 'gender', 'maritalStatus']]\n",
    "    address = row['address'][0]\n",
    "    name = row['name'][0]\n",
    "    \n",
    "    outrow['name'] = f\"{name['family']}, {name['given'][0]}\"\n",
    "    \n",
    "    outrow['address'] = f\"{address['city']}, {address['state']} {address['postalCode'] if ('postalCode' in address) else '' }\"\n",
    "    outrow['maritalStatus'] = outrow['maritalStatus']['text'] if not pd.isna(outrow['maritalStatus']) else \"\"\n",
    "    return(outrow)\n",
    "\n",
    "\n",
    "clean_vaccinations = vaccinations.apply(clean_vaccination, result_type='expand', axis=1)\n",
    "clean_patients = patients.apply(clean_patient, result_type='expand', axis = 1)\n",
    "\n",
    "clean_patients.head()"
   ]
  },
  {
   "cell_type": "code",
   "execution_count": 12,
   "metadata": {},
   "outputs": [
    {
     "data": {
      "text/html": [
       "<div>\n",
       "<style scoped>\n",
       "    .dataframe tbody tr th:only-of-type {\n",
       "        vertical-align: middle;\n",
       "    }\n",
       "\n",
       "    .dataframe tbody tr th {\n",
       "        vertical-align: top;\n",
       "    }\n",
       "\n",
       "    .dataframe thead th {\n",
       "        text-align: right;\n",
       "    }\n",
       "</style>\n",
       "<table border=\"1\" class=\"dataframe\">\n",
       "  <thead>\n",
       "    <tr style=\"text-align: right;\">\n",
       "      <th></th>\n",
       "      <th>id</th>\n",
       "      <th>date</th>\n",
       "      <th>patient</th>\n",
       "      <th>status</th>\n",
       "      <th>vaccineCode</th>\n",
       "    </tr>\n",
       "  </thead>\n",
       "  <tbody>\n",
       "    <tr>\n",
       "      <th>0</th>\n",
       "      <td>bc109526-a37d-4e28-89af-d6794e1ea5f3</td>\n",
       "      <td>2005-04-23T16:33:20+00:00</td>\n",
       "      <td>ddf5ae5c-5646-4a76-9efd-f7e697f3b728</td>\n",
       "      <td>completed</td>\n",
       "      <td>140</td>\n",
       "    </tr>\n",
       "    <tr>\n",
       "      <th>1</th>\n",
       "      <td>2334bd5e-0af2-417c-bb35-e70646a1d7ac</td>\n",
       "      <td>2006-04-29T16:33:20+00:00</td>\n",
       "      <td>ddf5ae5c-5646-4a76-9efd-f7e697f3b728</td>\n",
       "      <td>completed</td>\n",
       "      <td>140</td>\n",
       "    </tr>\n",
       "    <tr>\n",
       "      <th>2</th>\n",
       "      <td>2cb6d8c4-e385-415d-b413-ec407a768df3</td>\n",
       "      <td>2007-05-05T16:33:20+00:00</td>\n",
       "      <td>ddf5ae5c-5646-4a76-9efd-f7e697f3b728</td>\n",
       "      <td>completed</td>\n",
       "      <td>140</td>\n",
       "    </tr>\n",
       "    <tr>\n",
       "      <th>3</th>\n",
       "      <td>1b31e6bb-b457-4260-8d9c-bb1126129692</td>\n",
       "      <td>2008-05-10T16:33:20+00:00</td>\n",
       "      <td>ddf5ae5c-5646-4a76-9efd-f7e697f3b728</td>\n",
       "      <td>completed</td>\n",
       "      <td>140</td>\n",
       "    </tr>\n",
       "    <tr>\n",
       "      <th>4</th>\n",
       "      <td>1ed98a36-9dd1-4776-a0b4-d7dea2616d10</td>\n",
       "      <td>2009-05-16T16:33:20+00:00</td>\n",
       "      <td>ddf5ae5c-5646-4a76-9efd-f7e697f3b728</td>\n",
       "      <td>completed</td>\n",
       "      <td>140</td>\n",
       "    </tr>\n",
       "  </tbody>\n",
       "</table>\n",
       "</div>"
      ],
      "text/plain": [
       "                                     id                       date  \\\n",
       "0  bc109526-a37d-4e28-89af-d6794e1ea5f3  2005-04-23T16:33:20+00:00   \n",
       "1  2334bd5e-0af2-417c-bb35-e70646a1d7ac  2006-04-29T16:33:20+00:00   \n",
       "2  2cb6d8c4-e385-415d-b413-ec407a768df3  2007-05-05T16:33:20+00:00   \n",
       "3  1b31e6bb-b457-4260-8d9c-bb1126129692  2008-05-10T16:33:20+00:00   \n",
       "4  1ed98a36-9dd1-4776-a0b4-d7dea2616d10  2009-05-16T16:33:20+00:00   \n",
       "\n",
       "                                patient     status  vaccineCode  \n",
       "0  ddf5ae5c-5646-4a76-9efd-f7e697f3b728  completed          140  \n",
       "1  ddf5ae5c-5646-4a76-9efd-f7e697f3b728  completed          140  \n",
       "2  ddf5ae5c-5646-4a76-9efd-f7e697f3b728  completed          140  \n",
       "3  ddf5ae5c-5646-4a76-9efd-f7e697f3b728  completed          140  \n",
       "4  ddf5ae5c-5646-4a76-9efd-f7e697f3b728  completed          140  "
      ]
     },
     "execution_count": 12,
     "metadata": {},
     "output_type": "execute_result"
    }
   ],
   "source": [
    "clean_vaccinations.head()"
   ]
  },
  {
   "cell_type": "markdown",
   "metadata": {},
   "source": [
    "Finally, we will join these two data frames by the patient id to prepare the data for analysis. "
   ]
  },
  {
   "cell_type": "code",
   "execution_count": 16,
   "metadata": {},
   "outputs": [
    {
     "data": {
      "text/html": [
       "<div>\n",
       "<style scoped>\n",
       "    .dataframe tbody tr th:only-of-type {\n",
       "        vertical-align: middle;\n",
       "    }\n",
       "\n",
       "    .dataframe tbody tr th {\n",
       "        vertical-align: top;\n",
       "    }\n",
       "\n",
       "    .dataframe thead th {\n",
       "        text-align: right;\n",
       "    }\n",
       "</style>\n",
       "<table border=\"1\" class=\"dataframe\">\n",
       "  <thead>\n",
       "    <tr style=\"text-align: right;\">\n",
       "      <th></th>\n",
       "      <th>id_x</th>\n",
       "      <th>name</th>\n",
       "      <th>birthDate</th>\n",
       "      <th>gender</th>\n",
       "      <th>maritalStatus</th>\n",
       "      <th>address</th>\n",
       "      <th>id_y</th>\n",
       "      <th>date</th>\n",
       "      <th>patient</th>\n",
       "      <th>status</th>\n",
       "      <th>vaccineCode</th>\n",
       "    </tr>\n",
       "  </thead>\n",
       "  <tbody>\n",
       "    <tr>\n",
       "      <th>0</th>\n",
       "      <td>ddf5ae5c-5646-4a76-9efd-f7e697f3b728</td>\n",
       "      <td>Pedroza, Adriana</td>\n",
       "      <td>1938-02-19</td>\n",
       "      <td>female</td>\n",
       "      <td>M</td>\n",
       "      <td>Westborough, Massachusetts 01581</td>\n",
       "      <td>bc109526-a37d-4e28-89af-d6794e1ea5f3</td>\n",
       "      <td>2005-04-23T16:33:20+00:00</td>\n",
       "      <td>ddf5ae5c-5646-4a76-9efd-f7e697f3b728</td>\n",
       "      <td>completed</td>\n",
       "      <td>140</td>\n",
       "    </tr>\n",
       "    <tr>\n",
       "      <th>1</th>\n",
       "      <td>ddf5ae5c-5646-4a76-9efd-f7e697f3b728</td>\n",
       "      <td>Pedroza, Adriana</td>\n",
       "      <td>1938-02-19</td>\n",
       "      <td>female</td>\n",
       "      <td>M</td>\n",
       "      <td>Westborough, Massachusetts 01581</td>\n",
       "      <td>2334bd5e-0af2-417c-bb35-e70646a1d7ac</td>\n",
       "      <td>2006-04-29T16:33:20+00:00</td>\n",
       "      <td>ddf5ae5c-5646-4a76-9efd-f7e697f3b728</td>\n",
       "      <td>completed</td>\n",
       "      <td>140</td>\n",
       "    </tr>\n",
       "    <tr>\n",
       "      <th>2</th>\n",
       "      <td>ddf5ae5c-5646-4a76-9efd-f7e697f3b728</td>\n",
       "      <td>Pedroza, Adriana</td>\n",
       "      <td>1938-02-19</td>\n",
       "      <td>female</td>\n",
       "      <td>M</td>\n",
       "      <td>Westborough, Massachusetts 01581</td>\n",
       "      <td>2cb6d8c4-e385-415d-b413-ec407a768df3</td>\n",
       "      <td>2007-05-05T16:33:20+00:00</td>\n",
       "      <td>ddf5ae5c-5646-4a76-9efd-f7e697f3b728</td>\n",
       "      <td>completed</td>\n",
       "      <td>140</td>\n",
       "    </tr>\n",
       "    <tr>\n",
       "      <th>3</th>\n",
       "      <td>ddf5ae5c-5646-4a76-9efd-f7e697f3b728</td>\n",
       "      <td>Pedroza, Adriana</td>\n",
       "      <td>1938-02-19</td>\n",
       "      <td>female</td>\n",
       "      <td>M</td>\n",
       "      <td>Westborough, Massachusetts 01581</td>\n",
       "      <td>1b31e6bb-b457-4260-8d9c-bb1126129692</td>\n",
       "      <td>2008-05-10T16:33:20+00:00</td>\n",
       "      <td>ddf5ae5c-5646-4a76-9efd-f7e697f3b728</td>\n",
       "      <td>completed</td>\n",
       "      <td>140</td>\n",
       "    </tr>\n",
       "    <tr>\n",
       "      <th>4</th>\n",
       "      <td>ddf5ae5c-5646-4a76-9efd-f7e697f3b728</td>\n",
       "      <td>Pedroza, Adriana</td>\n",
       "      <td>1938-02-19</td>\n",
       "      <td>female</td>\n",
       "      <td>M</td>\n",
       "      <td>Westborough, Massachusetts 01581</td>\n",
       "      <td>1ed98a36-9dd1-4776-a0b4-d7dea2616d10</td>\n",
       "      <td>2009-05-16T16:33:20+00:00</td>\n",
       "      <td>ddf5ae5c-5646-4a76-9efd-f7e697f3b728</td>\n",
       "      <td>completed</td>\n",
       "      <td>140</td>\n",
       "    </tr>\n",
       "  </tbody>\n",
       "</table>\n",
       "</div>"
      ],
      "text/plain": [
       "                                   id_x              name   birthDate  gender  \\\n",
       "0  ddf5ae5c-5646-4a76-9efd-f7e697f3b728  Pedroza, Adriana  1938-02-19  female   \n",
       "1  ddf5ae5c-5646-4a76-9efd-f7e697f3b728  Pedroza, Adriana  1938-02-19  female   \n",
       "2  ddf5ae5c-5646-4a76-9efd-f7e697f3b728  Pedroza, Adriana  1938-02-19  female   \n",
       "3  ddf5ae5c-5646-4a76-9efd-f7e697f3b728  Pedroza, Adriana  1938-02-19  female   \n",
       "4  ddf5ae5c-5646-4a76-9efd-f7e697f3b728  Pedroza, Adriana  1938-02-19  female   \n",
       "\n",
       "  maritalStatus                           address  \\\n",
       "0             M  Westborough, Massachusetts 01581   \n",
       "1             M  Westborough, Massachusetts 01581   \n",
       "2             M  Westborough, Massachusetts 01581   \n",
       "3             M  Westborough, Massachusetts 01581   \n",
       "4             M  Westborough, Massachusetts 01581   \n",
       "\n",
       "                                   id_y                       date  \\\n",
       "0  bc109526-a37d-4e28-89af-d6794e1ea5f3  2005-04-23T16:33:20+00:00   \n",
       "1  2334bd5e-0af2-417c-bb35-e70646a1d7ac  2006-04-29T16:33:20+00:00   \n",
       "2  2cb6d8c4-e385-415d-b413-ec407a768df3  2007-05-05T16:33:20+00:00   \n",
       "3  1b31e6bb-b457-4260-8d9c-bb1126129692  2008-05-10T16:33:20+00:00   \n",
       "4  1ed98a36-9dd1-4776-a0b4-d7dea2616d10  2009-05-16T16:33:20+00:00   \n",
       "\n",
       "                                patient     status  vaccineCode  \n",
       "0  ddf5ae5c-5646-4a76-9efd-f7e697f3b728  completed          140  \n",
       "1  ddf5ae5c-5646-4a76-9efd-f7e697f3b728  completed          140  \n",
       "2  ddf5ae5c-5646-4a76-9efd-f7e697f3b728  completed          140  \n",
       "3  ddf5ae5c-5646-4a76-9efd-f7e697f3b728  completed          140  \n",
       "4  ddf5ae5c-5646-4a76-9efd-f7e697f3b728  completed          140  "
      ]
     },
     "execution_count": 16,
     "metadata": {},
     "output_type": "execute_result"
    }
   ],
   "source": [
    "# Merge\n",
    "merged = pd.merge(clean_patients, clean_vaccinations, left_on='id', right_on='patient')\n",
    "merged.head()"
   ]
  },
  {
   "cell_type": "markdown",
   "metadata": {},
   "source": [
    "Since we want to use age in the analysis but are given birth date, we need to calculate this value."
   ]
  },
  {
   "cell_type": "code",
   "execution_count": 18,
   "metadata": {},
   "outputs": [
    {
     "data": {
      "text/html": [
       "<div>\n",
       "<style scoped>\n",
       "    .dataframe tbody tr th:only-of-type {\n",
       "        vertical-align: middle;\n",
       "    }\n",
       "\n",
       "    .dataframe tbody tr th {\n",
       "        vertical-align: top;\n",
       "    }\n",
       "\n",
       "    .dataframe thead th {\n",
       "        text-align: right;\n",
       "    }\n",
       "</style>\n",
       "<table border=\"1\" class=\"dataframe\">\n",
       "  <thead>\n",
       "    <tr style=\"text-align: right;\">\n",
       "      <th></th>\n",
       "      <th>id_x</th>\n",
       "      <th>name</th>\n",
       "      <th>birthDate</th>\n",
       "      <th>gender</th>\n",
       "      <th>maritalStatus</th>\n",
       "      <th>address</th>\n",
       "      <th>id_y</th>\n",
       "      <th>date</th>\n",
       "      <th>patient</th>\n",
       "      <th>status</th>\n",
       "      <th>vaccineCode</th>\n",
       "      <th>age</th>\n",
       "    </tr>\n",
       "  </thead>\n",
       "  <tbody>\n",
       "    <tr>\n",
       "      <th>1025</th>\n",
       "      <td>2805041e-2730-49df-b779-0278afa476fb</td>\n",
       "      <td>Gottlieb, Piedad</td>\n",
       "      <td>2006-05-04</td>\n",
       "      <td>female</td>\n",
       "      <td>Never Married</td>\n",
       "      <td>Haverhill, Massachusetts 01830</td>\n",
       "      <td>e5c89e27-0ff8-4915-8ba0-e76acec1b747</td>\n",
       "      <td>2017-05-18T11:29:04+00:00</td>\n",
       "      <td>2805041e-2730-49df-b779-0278afa476fb</td>\n",
       "      <td>completed</td>\n",
       "      <td>114</td>\n",
       "      <td>12</td>\n",
       "    </tr>\n",
       "    <tr>\n",
       "      <th>1026</th>\n",
       "      <td>a1f91f29-b0d7-4f4c-a530-b7719dfbd470</td>\n",
       "      <td>Schowalter, Rene</td>\n",
       "      <td>1984-06-26</td>\n",
       "      <td>female</td>\n",
       "      <td>M</td>\n",
       "      <td>Ipswich, Massachusetts 01938</td>\n",
       "      <td>2d7bba43-03c9-4632-90ea-f96a7dfbcbcc</td>\n",
       "      <td>2009-09-01T23:11:21+00:00</td>\n",
       "      <td>a1f91f29-b0d7-4f4c-a530-b7719dfbd470</td>\n",
       "      <td>completed</td>\n",
       "      <td>140</td>\n",
       "      <td>34</td>\n",
       "    </tr>\n",
       "    <tr>\n",
       "      <th>1027</th>\n",
       "      <td>a1f91f29-b0d7-4f4c-a530-b7719dfbd470</td>\n",
       "      <td>Schowalter, Rene</td>\n",
       "      <td>1984-06-26</td>\n",
       "      <td>female</td>\n",
       "      <td>M</td>\n",
       "      <td>Ipswich, Massachusetts 01938</td>\n",
       "      <td>941f74c7-8c33-46ec-ae8f-20ca94ffe432</td>\n",
       "      <td>2012-09-04T23:11:21+00:00</td>\n",
       "      <td>a1f91f29-b0d7-4f4c-a530-b7719dfbd470</td>\n",
       "      <td>completed</td>\n",
       "      <td>140</td>\n",
       "      <td>34</td>\n",
       "    </tr>\n",
       "    <tr>\n",
       "      <th>1028</th>\n",
       "      <td>a1f91f29-b0d7-4f4c-a530-b7719dfbd470</td>\n",
       "      <td>Schowalter, Rene</td>\n",
       "      <td>1984-06-26</td>\n",
       "      <td>female</td>\n",
       "      <td>M</td>\n",
       "      <td>Ipswich, Massachusetts 01938</td>\n",
       "      <td>5b21cbac-c352-440f-b950-63e841f12cf3</td>\n",
       "      <td>2015-09-08T23:11:21+00:00</td>\n",
       "      <td>a1f91f29-b0d7-4f4c-a530-b7719dfbd470</td>\n",
       "      <td>completed</td>\n",
       "      <td>140</td>\n",
       "      <td>34</td>\n",
       "    </tr>\n",
       "    <tr>\n",
       "      <th>1029</th>\n",
       "      <td>a1f91f29-b0d7-4f4c-a530-b7719dfbd470</td>\n",
       "      <td>Schowalter, Rene</td>\n",
       "      <td>1984-06-26</td>\n",
       "      <td>female</td>\n",
       "      <td>M</td>\n",
       "      <td>Ipswich, Massachusetts 01938</td>\n",
       "      <td>2032496e-a362-442d-be16-4bbc18159464</td>\n",
       "      <td>2015-09-08T23:11:21+00:00</td>\n",
       "      <td>a1f91f29-b0d7-4f4c-a530-b7719dfbd470</td>\n",
       "      <td>completed</td>\n",
       "      <td>113</td>\n",
       "      <td>34</td>\n",
       "    </tr>\n",
       "  </tbody>\n",
       "</table>\n",
       "</div>"
      ],
      "text/plain": [
       "                                      id_x              name   birthDate  \\\n",
       "1025  2805041e-2730-49df-b779-0278afa476fb  Gottlieb, Piedad  2006-05-04   \n",
       "1026  a1f91f29-b0d7-4f4c-a530-b7719dfbd470  Schowalter, Rene  1984-06-26   \n",
       "1027  a1f91f29-b0d7-4f4c-a530-b7719dfbd470  Schowalter, Rene  1984-06-26   \n",
       "1028  a1f91f29-b0d7-4f4c-a530-b7719dfbd470  Schowalter, Rene  1984-06-26   \n",
       "1029  a1f91f29-b0d7-4f4c-a530-b7719dfbd470  Schowalter, Rene  1984-06-26   \n",
       "\n",
       "      gender  maritalStatus                         address  \\\n",
       "1025  female  Never Married  Haverhill, Massachusetts 01830   \n",
       "1026  female              M    Ipswich, Massachusetts 01938   \n",
       "1027  female              M    Ipswich, Massachusetts 01938   \n",
       "1028  female              M    Ipswich, Massachusetts 01938   \n",
       "1029  female              M    Ipswich, Massachusetts 01938   \n",
       "\n",
       "                                      id_y                       date  \\\n",
       "1025  e5c89e27-0ff8-4915-8ba0-e76acec1b747  2017-05-18T11:29:04+00:00   \n",
       "1026  2d7bba43-03c9-4632-90ea-f96a7dfbcbcc  2009-09-01T23:11:21+00:00   \n",
       "1027  941f74c7-8c33-46ec-ae8f-20ca94ffe432  2012-09-04T23:11:21+00:00   \n",
       "1028  5b21cbac-c352-440f-b950-63e841f12cf3  2015-09-08T23:11:21+00:00   \n",
       "1029  2032496e-a362-442d-be16-4bbc18159464  2015-09-08T23:11:21+00:00   \n",
       "\n",
       "                                   patient     status  vaccineCode  age  \n",
       "1025  2805041e-2730-49df-b779-0278afa476fb  completed          114   12  \n",
       "1026  a1f91f29-b0d7-4f4c-a530-b7719dfbd470  completed          140   34  \n",
       "1027  a1f91f29-b0d7-4f4c-a530-b7719dfbd470  completed          140   34  \n",
       "1028  a1f91f29-b0d7-4f4c-a530-b7719dfbd470  completed          140   34  \n",
       "1029  a1f91f29-b0d7-4f4c-a530-b7719dfbd470  completed          113   34  "
      ]
     },
     "execution_count": 18,
     "metadata": {},
     "output_type": "execute_result"
    }
   ],
   "source": [
    "from datetime import datetime\n",
    "from dateutil.relativedelta import relativedelta\n",
    "\n",
    "merged['age'] = merged['birthDate'].apply(lambda birthDate: relativedelta(datetime.today(), datetime.strptime(birthDate, '%Y-%m-%d')).years) \n",
    "\n",
    "merged.tail()"
   ]
  },
  {
   "cell_type": "markdown",
   "metadata": {},
   "source": [
    "And now, we can do our analysis!\n",
    "\n",
    "We're going to just plot a simple relationship between the number of vaccinations and age. "
   ]
  },
  {
   "cell_type": "code",
   "execution_count": 20,
   "metadata": {},
   "outputs": [
    {
     "data": {
      "text/plain": [
       "<matplotlib.axes._subplots.AxesSubplot at 0x7f2d722f9080>"
      ]
     },
     "execution_count": 20,
     "metadata": {},
     "output_type": "execute_result"
    },
    {
     "data": {
      "image/png": "[encoded data removed]",
      "text/plain": [
       "<Figure size 1080x720 with 1 Axes>"
      ]
     },
     "metadata": {
      "needs_background": "light"
     },
     "output_type": "display_data"
    }
   ],
   "source": [
    "import matplotlib.pyplot as plt\n",
    "%matplotlib inline\n",
    "plt.rcParams['figure.figsize'] = [15, 10]\n",
    "\n",
    "\n",
    "agg = merged.groupby(['patient', 'age']).count()['vaccineCode']\n",
    "\n",
    "plot_df = pd.DataFrame({'age': list(agg.index.get_level_values(1)), 'vac_count': agg}) \n",
    "\n",
    "plot_df.head()\n",
    "\n",
    "plot_df.plot.scatter(x='age', y='vac_count')\n"
   ]
  },
  {
   "cell_type": "markdown",
   "metadata": {},
   "source": [
    "Now, let's focus our analysis on only those vaccinations that have code 140 - flu shots. "
   ]
  },
  {
   "cell_type": "code",
   "execution_count": 22,
   "metadata": {},
   "outputs": [
    {
     "data": {
      "text/plain": [
       "<matplotlib.axes._subplots.AxesSubplot at 0x7f2d71f267b8>"
      ]
     },
     "execution_count": 22,
     "metadata": {},
     "output_type": "execute_result"
    },
    {
     "data": {
      "image/png": "[encoded data removed]",
      "text/plain": [
       "<Figure size 1080x720 with 1 Axes>"
      ]
     },
     "metadata": {
      "needs_background": "light"
     },
     "output_type": "display_data"
    }
   ],
   "source": [
    "agg = merged[merged.vaccineCode == 140].groupby(['patient', 'age']).count()['vaccineCode']\n",
    "\n",
    "plt.rcParams['figure.figsize'] = [15, 10]\n",
    "\n",
    "plot_df = pd.DataFrame({'age': list(agg.index.get_level_values(1)), 'vac_count': agg}) \n",
    "\n",
    "plot_df.head()\n",
    "\n",
    "plot_df.plot.scatter(x='age', y='vac_count')"
   ]
  },
  {
   "cell_type": "markdown",
   "metadata": {},
   "source": [
    "## Role in a Learning Health System\n",
    "\n",
    "Although this is a contrived example and very simple analysis, this type of figure might be useful in many different contexts - and could be fed back upstream to support decision makers at the public, population, practice, or patient level. "
   ]
  }
 ],
 "metadata": {
  "kernelspec": {
   "display_name": "Python 3",
   "language": "python",
   "name": "python3"
  },
  "language_info": {
   "codemirror_mode": {
    "name": "ipython",
    "version": 3
   },
   "file_extension": ".py",
   "mimetype": "text/x-python",
   "name": "python",
   "nbconvert_exporter": "python",
   "pygments_lexer": "ipython3",
   "version": "3.6.3"
  }
 },
 "nbformat": 4,
 "nbformat_minor": 2
}
