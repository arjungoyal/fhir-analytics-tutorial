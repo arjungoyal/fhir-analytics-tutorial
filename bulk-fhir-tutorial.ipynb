{
 "cells": [
  {
   "cell_type": "markdown",
   "metadata": {
    "jupyter": {
     "source_hidden": true
    }
   },
   "source": [
    "# Analyzing Data Using FHIR Bulk Data Access (Flat FHIR)\n",
    "https://hl7.org/fhir/uv/bulkdata/\n",
    "\n",
    "In this notebook, we'll implement a very simple client that can access and download clinical data in the FHIR format using the [bulk data export request](https://hl7.org/fhir/uv/bulkdata/export/index.html#bulk-data-kick-off-request) from the [Demo SMART Bulk Data Server](https://bulk-data.smarthealthit.org). This notebook is originally based on a [FHIR Connectathon Project](https://github.com/plangthorne/python-fhir/blob/master/demo/BulkDataDemo.ipynb), but we're ignoring the authorization aspects of the communication flow for simplicity's sake. If you'd like to read more about the authentication flow, see the [Smart Backend Services: Authorization Guide](https://hl7.org/fhir/uv/bulkdata/authorization/index.html).\n",
    "\n",
    "To start off our tutorial, let's quickly breeze through some slides provided in the [Resources](https://hl7.org/fhir/uv/bulkdata/#resources) section of the documentation. [Click here](https://docs.google.com/presentation/d/14ZHmam9hwz6-SsCG1YqUIQnJ56bvSqEatebltgEVR6c/edit#slide=id.g8c17644f87_23_919) to follow along!"
   ]
  },
  {
   "cell_type": "markdown",
   "metadata": {},
   "source": [
    "## Motivation: Generate a Data Analysis Pipeline\n",
    "\n",
    "Creating maintainable and comprehensive pipelines for data analysis - where the process is as automated and parameterized as possible - is incredibly useful in research, with benefits including:\n",
    "\n",
    "- rapid iteration\n",
    "- reprucibility\n",
    "- collaboration\n",
    "- easier updates\n",
    "- clarity\n",
    "- debugging\n",
    "- documentation\n",
    " \n",
    "Also, pipelines can be used as great starting points for building more generalizable automated tools. \n",
    "\n",
    "To make such a pipeline for analyzing EHR data, we want to to able to write code to: \n",
    "1. Query the data source for the desired data\n",
    "2. Transform this data into a format suitable for analysis\n",
    "3. Analyze it with the desired data analysis software\n",
    "\n",
    "\n",
    "In this tutorial, we'll demonstrate this approach using FHIR Bulk Data Access to grab the required data and Python to run a simple analysis. \n",
    "1. Request the data we want to analyze from the FHIR server\n",
    "2. Access and transform the data for analysis using [pandas](https://pandas.pydata.org/)"
   ]
  },
  {
   "cell_type": "markdown",
   "metadata": {},
   "source": [
    "## Scenario: Patient Vaccination Analysis\n",
    "\n",
    "Since we're currently limited to a synthetic dataset and a nascent API that's at the early stages of development, the scenario we will use is - by necessity - a bit contrived.  \n",
    "\n",
    "We're going to focus on two specific resources - [Patients](https://www.hl7.org/fhir/patient.html) and [Immunizations](https://www.hl7.org/fhir/immunization.html) to investigate vaccination rates in our Patient pool. \n",
    "\n",
    "Feel free to adapt this example to your own scenario with a focus on other resources. "
   ]
  },
  {
   "cell_type": "markdown",
   "metadata": {},
   "source": [
    "\n",
    "\n",
    "## Initial Setup\n",
    "1. Download and install Anaconda: https://www.anaconda.com/distribution/\n",
    "\n",
    "2. Install the [requests](http://docs.python-requests.org/en/master/), [numpy](https://pypi.org/project/numpy/), [pandas](https://pandas.pydata.org/), and [matplotlib](https://matplotlib.org/) packages: `conda install requests pandas numpy matplotlib`.\n",
    "\n",
    "3. Clone project from github: `git clone https://github.com/uw-fhir/bulk-fhir-tutorial.git`\n",
    "\n",
    "4. Open `bulk-fhir-tutorial.ipynb` in JupyterLab or Jupyter Notebook"
   ]
  },
  {
   "cell_type": "markdown",
   "metadata": {},
   "source": [
    "## Server Configuration\n",
    "\n",
    "We'll start by reading required config parameters, which define the FHIR server and other options. We'll be testing against the [demo SMART Bulk Data Server](https://bulk-data.smarthealthit.org). "
   ]
  },
  {
   "cell_type": "code",
   "execution_count": 8,
   "metadata": {},
   "outputs": [],
   "source": [
    "import yaml\n",
    "    \n",
    "with open('config.yaml') as f:\n",
    "    config = yaml.safe_load(f)"
   ]
  },
  {
   "cell_type": "markdown",
   "metadata": {},
   "source": [
    "## 1. Explore the Dataset\n",
    "\n",
    "First, we're going to use the [SMART Patient Browser](https://patient-browser.smarthealthit.org/index.html?config=r3#/) tool to explore the patients and associated data. \n",
    "\n",
    "Click on the tool and play around with it a bit, clicking on the different listed [Patients](https://www.hl7.org/fhir/patient.html) and then exploring their associated FHIR Resources like [Immunizations](https://www.hl7.org/fhir/immunization.html) or [Encounters](https://www.hl7.org/fhir/encounter.html). "
   ]
  },
  {
   "cell_type": "markdown",
   "metadata": {},
   "source": [
    "## 2. Generate the Query using the Bulk Data Export Request Flow\n",
    "\n",
    "Now that we have a feel for the data, we need to decide what specific resources we're interested in and generate a query by using the proper [FHIR Bulk Data query parameters](https://github.com/HL7/bulk-data/blob/master/spec/export/index.md#query-parameters). \n",
    "\n",
    "We can first try out our downloads by using a very simple tool made by the SMART folks - [The FHIR Bulk Downloader](https://bulk-data.smarthealthit.org/sample-app/index.html?server=https%3A%2F%2Fbulk-data.smarthealthit.org%2FeyJlcnIiOiIiLCJwYWdlIjoxMDAwMCwiZHVyIjoxMCwidGx0IjoxNSwibSI6MX0%2Ffhir)\n",
    "\n",
    "We'll focus on the Patient-level export since we're only interested in data that is in some way associated with a Patient (see https://github.com/smart-on-fhir/fhir-bulk-data-docs/blob/master/export.md#query-parameters for more information), and want to download resources that will be useful for analysis. \n",
    "\n",
    "In this example, we'll be looking at [Immunizations](https://www.hl7.org/fhir/immunization.html). \n",
    "\n",
    "1. Go to [The FHIR Bulk Downloader](https://bulk-data.smarthealthit.org/sample-app/index.html?server=https%3A%2F%2Fbulk-data.smarthealthit.org%2FeyJlcnIiOiIiLCJwYWdlIjoxMDAwMCwiZHVyIjoxMCwidGx0IjoxNSwibSI6MX0%2Ffhir)\n",
    "\n",
    "2. Select the desired resources, patient groups, and time frame. \n",
    "\n",
    "3. Notice how each selection modifies the download link url.\n",
    "\n",
    "4. Try modifying the url yourself using the available query parameters, and see what happens after pressing `Download`. \n",
    "   \n",
    "   For example, type this in: `https://bulk-data.smarthealthit.org/eyJlcnIiOiIiLCJwYWdlIjoxMDAwMCwiZHVyIjoxMCwidGx0IjoxNSwibSI6MX0/fhir/Patient/$export?_type=Patient,Immunization&_typeFilter=Immunization%3Fvaccine-code%3D140,Patient%3Fgender=female`\n",
    "   \n",
    "5. Note this generated url string for use later in the tutorial to get the desired dataset. I will be using the query above. "
   ]
  },
  {
   "cell_type": "markdown",
   "metadata": {},
   "source": [
    "## 3. Send Bulk Data Request\n",
    "\n",
    "Now that we know what query string we'll use to access our desired dataset, we can send a request to the FHIR endpoint which will tell the endpoint to start compiling the data we require. \n",
    "\n",
    "This manual bit of work slightly intimidating, and you can leverage the fhir bulk data clients that already exist: https://github.com/smart-on-fhir/fhir-bulk-data-docs/blob/master/implementations.md#client. [This notebook](https://github.com/plangthorne/python-fhir/blob/master/demo/BulkDataDemo.ipynb) demos the use of one such client. \n",
    "\n",
    "See https://pasteapp.com/p/Ggufyqh11of/s/haevhk9l for an overview of the flow being executed here. "
   ]
  },
  {
   "cell_type": "code",
   "execution_count": 9,
   "metadata": {},
   "outputs": [
    {
     "data": {
      "text/plain": [
       "'_type=Patient,Immunization&_typeFilter=Immunization%3Fvaccine-code%3D140,Patient%3Fgender=female'"
      ]
     },
     "metadata": {},
     "output_type": "display_data"
    },
    {
     "data": {
      "text/plain": [
       "<Response [202]>"
      ]
     },
     "metadata": {},
     "output_type": "display_data"
    },
    {
     "data": {
      "text/plain": [
       "'https://bulk-data.smarthealthit.org/eyJlcnIiOiIiLCJwYWdlIjoxMDAwMCwiZHVyIjoxMCwidGx0IjoxNSwibSI6MX0/fhir/Patient/$export?_type=Patient,Immunization&_typeFilter=Immunization%3Fvaccine-code%3D140,Patient%3Fgender=female'"
      ]
     },
     "metadata": {},
     "output_type": "display_data"
    },
    {
     "data": {
      "text/plain": [
       "{'resourceType': 'OperationOutcome',\n",
       " 'text': {'status': 'generated',\n",
       "  'div': '<div xmlns=\"http://www.w3.org/1999/xhtml\"><h1>Operation Outcome</h1><table border=\"0\"><tr><td style=\"font-weight:bold;\">information</td><td>[]</td><td><pre>Your request has been accepted. You can check it\\'s status at &quot;https://bulk-data.smarthealthit.org/fhir/bulkstatus/4c6259b9b327c03fb49d961cdad5aef1&quot;</pre></td></tr></table></div>'},\n",
       " 'issue': [{'severity': 'information',\n",
       "   'code': 'processing',\n",
       "   'diagnostics': 'Your request has been accepted. You can check it\\'s status at \"https://bulk-data.smarthealthit.org/fhir/bulkstatus/4c6259b9b327c03fb49d961cdad5aef1\"'}]}"
      ]
     },
     "metadata": {},
     "output_type": "display_data"
    }
   ],
   "source": [
    "import requests\n",
    "import urllib\n",
    "\n",
    "fhir_endpoint = config[\"server\"]\n",
    "export_level = '/Patient/$export'\n",
    "types = [\"Patient\", \"Immunization\"]\n",
    "typeFilters = [\"Patient?gender=female\", \"Immunization?vaccine-code=140\"]\n",
    "\n",
    "headers = {'Accept': 'application/fhir+json', \"Prefer\": 'respond-async'}\n",
    "\n",
    "payload = {'_type': \",\".join(types), '_typeFilter': \",\".join(typeFilters)}\n",
    "payload_str = \"&\".join(\"%s=%s\" % (k,v) for k,v in payload.items())\n",
    "# temp\n",
    "payload_str = \"_type=Patient,Immunization&_typeFilter=Immunization%3Fvaccine-code%3D140,Patient%3Fgender=female\"\n",
    "\n",
    "request_url = fhir_endpoint + export_level\n",
    "\n",
    "r = requests.get(request_url, headers=headers, params=payload_str)\n",
    "\n",
    "display(payload_str)\n",
    "display(r)\n",
    "display(r.url)\n",
    "display(r.json())"
   ]
  },
  {
   "cell_type": "markdown",
   "metadata": {},
   "source": [
    "## 4. Wait for Data\n",
    "\n",
    "Now that the server is compiling the datasets, we need to wait until the endpoint is ready to send the data. We continuously query the provided location until the server is done."
   ]
  },
  {
   "cell_type": "code",
   "execution_count": 10,
   "metadata": {},
   "outputs": [
    {
     "data": {
      "text/plain": [
       "202"
      ]
     },
     "metadata": {},
     "output_type": "display_data"
    },
    {
     "data": {
      "text/plain": [
       "202"
      ]
     },
     "metadata": {},
     "output_type": "display_data"
    },
    {
     "data": {
      "text/plain": [
       "202"
      ]
     },
     "metadata": {},
     "output_type": "display_data"
    },
    {
     "data": {
      "text/plain": [
       "202"
      ]
     },
     "metadata": {},
     "output_type": "display_data"
    },
    {
     "data": {
      "text/plain": [
       "202"
      ]
     },
     "metadata": {},
     "output_type": "display_data"
    },
    {
     "data": {
      "text/plain": [
       "202"
      ]
     },
     "metadata": {},
     "output_type": "display_data"
    },
    {
     "data": {
      "text/plain": [
       "202"
      ]
     },
     "metadata": {},
     "output_type": "display_data"
    },
    {
     "data": {
      "text/plain": [
       "202"
      ]
     },
     "metadata": {},
     "output_type": "display_data"
    },
    {
     "data": {
      "text/plain": [
       "200"
      ]
     },
     "metadata": {},
     "output_type": "display_data"
    },
    {
     "data": {
      "text/plain": [
       "['https://bulk-data.smarthealthit.org/eyJpZCI6IjRjNjI1OWI5YjMyN2MwM2ZiNDlkOTYxY2RhZDVhZWYxIiwib2Zmc2V0IjowLCJsaW1pdCI6MTAwMDB9/fhir/bulkfiles/1.Immunization.ndjson',\n",
       " 'https://bulk-data.smarthealthit.org/eyJpZCI6IjRjNjI1OWI5YjMyN2MwM2ZiNDlkOTYxY2RhZDVhZWYxIiwib2Zmc2V0IjowLCJsaW1pdCI6MTAwMDB9/fhir/bulkfiles/1.Patient.ndjson']"
      ]
     },
     "metadata": {},
     "output_type": "display_data"
    }
   ],
   "source": [
    "from time import sleep\n",
    "\n",
    "def parse_manifest(response):\n",
    "    return [_.get('url') for _ in response.json()['output']]\n",
    "\n",
    "location = r.headers['Content-Location']\n",
    "\n",
    "while True:\n",
    "    sleep(0.5)\n",
    "    response = requests.get(location)\n",
    "    display(response.status_code)\n",
    "    if response.status_code == 200:\n",
    "        manifest = parse_manifest(response)\n",
    "        break\n",
    "    \n",
    "display(manifest)"
   ]
  },
  {
   "cell_type": "markdown",
   "metadata": {},
   "source": [
    "## Load and Transform the Data\n",
    "\n",
    "Now that we have access to both the patient and immunization data, we should load the data, link patients and vaccinations together, and transform it into a form suitable for analysis. \n"
   ]
  },
  {
   "cell_type": "code",
   "execution_count": 11,
   "metadata": {},
   "outputs": [
    {
     "data": {
      "text/plain": [
       "[<generator object iterate_over_json at 0x000002154E6AF9E0>,\n",
       " <generator object iterate_over_json at 0x000002154E6AFC80>]"
      ]
     },
     "execution_count": 11,
     "metadata": {},
     "output_type": "execute_result"
    }
   ],
   "source": [
    "import json\n",
    "\n",
    "def iterate_over_json(url):\n",
    "    data = requests.get(url)\n",
    "    for item in data.iter_lines():\n",
    "        yield json.loads(item)    \n",
    "\n",
    "json_data = list(map(iterate_over_json, manifest))\n",
    "\n",
    "json_data\n"
   ]
  },
  {
   "cell_type": "code",
   "execution_count": 12,
   "metadata": {},
   "outputs": [],
   "source": [
    "import itertools as it\n",
    "import numpy as np\n",
    "import pandas as pd\n",
    "\n",
    "vaccinations = pd.DataFrame(list(json_data[0]))\n",
    "patients = pd.DataFrame(list(json_data[1]))"
   ]
  },
  {
   "cell_type": "code",
   "execution_count": 13,
   "metadata": {},
   "outputs": [
    {
     "data": {
      "text/html": [
       "<div>\n",
       "<style scoped>\n",
       "    .dataframe tbody tr th:only-of-type {\n",
       "        vertical-align: middle;\n",
       "    }\n",
       "\n",
       "    .dataframe tbody tr th {\n",
       "        vertical-align: top;\n",
       "    }\n",
       "\n",
       "    .dataframe thead th {\n",
       "        text-align: right;\n",
       "    }\n",
       "</style>\n",
       "<table border=\"1\" class=\"dataframe\">\n",
       "  <thead>\n",
       "    <tr style=\"text-align: right;\">\n",
       "      <th></th>\n",
       "      <th>resourceType</th>\n",
       "      <th>id</th>\n",
       "      <th>text</th>\n",
       "      <th>extension</th>\n",
       "      <th>identifier</th>\n",
       "      <th>name</th>\n",
       "      <th>telecom</th>\n",
       "      <th>gender</th>\n",
       "      <th>birthDate</th>\n",
       "      <th>address</th>\n",
       "      <th>maritalStatus</th>\n",
       "      <th>multipleBirthBoolean</th>\n",
       "      <th>communication</th>\n",
       "      <th>multipleBirthInteger</th>\n",
       "    </tr>\n",
       "  </thead>\n",
       "  <tbody>\n",
       "    <tr>\n",
       "      <th>0</th>\n",
       "      <td>Patient</td>\n",
       "      <td>6c5d9ca9-54d7-42f5-bfae-a7c19cd217f2</td>\n",
       "      <td>{'status': 'generated', 'div': '&lt;div xmlns=\"ht...</td>\n",
       "      <td>[{'url': 'http://hl7.org/fhir/StructureDefinit...</td>\n",
       "      <td>[{'system': 'https://github.com/synthetichealt...</td>\n",
       "      <td>[{'use': 'official', 'family': 'Lemke', 'given...</td>\n",
       "      <td>[{'system': 'phone', 'value': '555-532-1156', ...</td>\n",
       "      <td>male</td>\n",
       "      <td>1965-01-13</td>\n",
       "      <td>[{'extension': [{'url': 'http://hl7.org/fhir/S...</td>\n",
       "      <td>{'coding': [{'system': 'http://terminology.hl7...</td>\n",
       "      <td>False</td>\n",
       "      <td>[{'language': {'coding': [{'system': 'urn:ietf...</td>\n",
       "      <td>NaN</td>\n",
       "    </tr>\n",
       "    <tr>\n",
       "      <th>1</th>\n",
       "      <td>Patient</td>\n",
       "      <td>58c297c4-d684-4677-8024-01131d93835e</td>\n",
       "      <td>{'status': 'generated', 'div': '&lt;div xmlns=\"ht...</td>\n",
       "      <td>[{'url': 'http://hl7.org/fhir/StructureDefinit...</td>\n",
       "      <td>[{'system': 'https://github.com/synthetichealt...</td>\n",
       "      <td>[{'use': 'official', 'family': 'Wintheiser', '...</td>\n",
       "      <td>[{'system': 'phone', 'value': '555-712-4709', ...</td>\n",
       "      <td>female</td>\n",
       "      <td>1971-04-05</td>\n",
       "      <td>[{'extension': [{'url': 'http://hl7.org/fhir/S...</td>\n",
       "      <td>{'coding': [{'system': 'http://terminology.hl7...</td>\n",
       "      <td>False</td>\n",
       "      <td>[{'language': {'coding': [{'system': 'urn:ietf...</td>\n",
       "      <td>NaN</td>\n",
       "    </tr>\n",
       "    <tr>\n",
       "      <th>2</th>\n",
       "      <td>Patient</td>\n",
       "      <td>538a9a4e-8437-47d3-8c01-1a17dca8f0be</td>\n",
       "      <td>{'status': 'generated', 'div': '&lt;div xmlns=\"ht...</td>\n",
       "      <td>[{'url': 'http://hl7.org/fhir/StructureDefinit...</td>\n",
       "      <td>[{'system': 'https://github.com/synthetichealt...</td>\n",
       "      <td>[{'use': 'official', 'family': 'Alaniz', 'give...</td>\n",
       "      <td>[{'system': 'phone', 'value': '555-446-6900', ...</td>\n",
       "      <td>male</td>\n",
       "      <td>1923-03-24</td>\n",
       "      <td>[{'extension': [{'url': 'http://hl7.org/fhir/S...</td>\n",
       "      <td>{'coding': [{'system': 'http://terminology.hl7...</td>\n",
       "      <td>False</td>\n",
       "      <td>[{'language': {'coding': [{'system': 'urn:ietf...</td>\n",
       "      <td>NaN</td>\n",
       "    </tr>\n",
       "    <tr>\n",
       "      <th>3</th>\n",
       "      <td>Patient</td>\n",
       "      <td>c6c60742-8694-46e4-bb42-b00bf6d8b536</td>\n",
       "      <td>{'status': 'generated', 'div': '&lt;div xmlns=\"ht...</td>\n",
       "      <td>[{'url': 'http://hl7.org/fhir/StructureDefinit...</td>\n",
       "      <td>[{'system': 'https://github.com/synthetichealt...</td>\n",
       "      <td>[{'use': 'official', 'family': 'Walsh', 'given...</td>\n",
       "      <td>[{'system': 'phone', 'value': '555-436-4287', ...</td>\n",
       "      <td>female</td>\n",
       "      <td>1965-10-27</td>\n",
       "      <td>[{'extension': [{'url': 'http://hl7.org/fhir/S...</td>\n",
       "      <td>{'coding': [{'system': 'http://terminology.hl7...</td>\n",
       "      <td>False</td>\n",
       "      <td>[{'language': {'coding': [{'system': 'urn:ietf...</td>\n",
       "      <td>NaN</td>\n",
       "    </tr>\n",
       "    <tr>\n",
       "      <th>4</th>\n",
       "      <td>Patient</td>\n",
       "      <td>fbfec681-d357-4b28-b1d2-5db6434c7846</td>\n",
       "      <td>{'status': 'generated', 'div': '&lt;div xmlns=\"ht...</td>\n",
       "      <td>[{'url': 'http://hl7.org/fhir/StructureDefinit...</td>\n",
       "      <td>[{'system': 'https://github.com/synthetichealt...</td>\n",
       "      <td>[{'use': 'official', 'family': 'Bednar', 'give...</td>\n",
       "      <td>[{'system': 'phone', 'value': '555-405-4909', ...</td>\n",
       "      <td>female</td>\n",
       "      <td>1942-07-04</td>\n",
       "      <td>[{'extension': [{'url': 'http://hl7.org/fhir/S...</td>\n",
       "      <td>{'coding': [{'system': 'http://terminology.hl7...</td>\n",
       "      <td>False</td>\n",
       "      <td>[{'language': {'coding': [{'system': 'urn:ietf...</td>\n",
       "      <td>NaN</td>\n",
       "    </tr>\n",
       "  </tbody>\n",
       "</table>\n",
       "</div>"
      ],
      "text/plain": [
       "  resourceType                                    id  \\\n",
       "0      Patient  6c5d9ca9-54d7-42f5-bfae-a7c19cd217f2   \n",
       "1      Patient  58c297c4-d684-4677-8024-01131d93835e   \n",
       "2      Patient  538a9a4e-8437-47d3-8c01-1a17dca8f0be   \n",
       "3      Patient  c6c60742-8694-46e4-bb42-b00bf6d8b536   \n",
       "4      Patient  fbfec681-d357-4b28-b1d2-5db6434c7846   \n",
       "\n",
       "                                                text  \\\n",
       "0  {'status': 'generated', 'div': '<div xmlns=\"ht...   \n",
       "1  {'status': 'generated', 'div': '<div xmlns=\"ht...   \n",
       "2  {'status': 'generated', 'div': '<div xmlns=\"ht...   \n",
       "3  {'status': 'generated', 'div': '<div xmlns=\"ht...   \n",
       "4  {'status': 'generated', 'div': '<div xmlns=\"ht...   \n",
       "\n",
       "                                           extension  \\\n",
       "0  [{'url': 'http://hl7.org/fhir/StructureDefinit...   \n",
       "1  [{'url': 'http://hl7.org/fhir/StructureDefinit...   \n",
       "2  [{'url': 'http://hl7.org/fhir/StructureDefinit...   \n",
       "3  [{'url': 'http://hl7.org/fhir/StructureDefinit...   \n",
       "4  [{'url': 'http://hl7.org/fhir/StructureDefinit...   \n",
       "\n",
       "                                          identifier  \\\n",
       "0  [{'system': 'https://github.com/synthetichealt...   \n",
       "1  [{'system': 'https://github.com/synthetichealt...   \n",
       "2  [{'system': 'https://github.com/synthetichealt...   \n",
       "3  [{'system': 'https://github.com/synthetichealt...   \n",
       "4  [{'system': 'https://github.com/synthetichealt...   \n",
       "\n",
       "                                                name  \\\n",
       "0  [{'use': 'official', 'family': 'Lemke', 'given...   \n",
       "1  [{'use': 'official', 'family': 'Wintheiser', '...   \n",
       "2  [{'use': 'official', 'family': 'Alaniz', 'give...   \n",
       "3  [{'use': 'official', 'family': 'Walsh', 'given...   \n",
       "4  [{'use': 'official', 'family': 'Bednar', 'give...   \n",
       "\n",
       "                                             telecom  gender   birthDate  \\\n",
       "0  [{'system': 'phone', 'value': '555-532-1156', ...    male  1965-01-13   \n",
       "1  [{'system': 'phone', 'value': '555-712-4709', ...  female  1971-04-05   \n",
       "2  [{'system': 'phone', 'value': '555-446-6900', ...    male  1923-03-24   \n",
       "3  [{'system': 'phone', 'value': '555-436-4287', ...  female  1965-10-27   \n",
       "4  [{'system': 'phone', 'value': '555-405-4909', ...  female  1942-07-04   \n",
       "\n",
       "                                             address  \\\n",
       "0  [{'extension': [{'url': 'http://hl7.org/fhir/S...   \n",
       "1  [{'extension': [{'url': 'http://hl7.org/fhir/S...   \n",
       "2  [{'extension': [{'url': 'http://hl7.org/fhir/S...   \n",
       "3  [{'extension': [{'url': 'http://hl7.org/fhir/S...   \n",
       "4  [{'extension': [{'url': 'http://hl7.org/fhir/S...   \n",
       "\n",
       "                                       maritalStatus multipleBirthBoolean  \\\n",
       "0  {'coding': [{'system': 'http://terminology.hl7...                False   \n",
       "1  {'coding': [{'system': 'http://terminology.hl7...                False   \n",
       "2  {'coding': [{'system': 'http://terminology.hl7...                False   \n",
       "3  {'coding': [{'system': 'http://terminology.hl7...                False   \n",
       "4  {'coding': [{'system': 'http://terminology.hl7...                False   \n",
       "\n",
       "                                       communication  multipleBirthInteger  \n",
       "0  [{'language': {'coding': [{'system': 'urn:ietf...                   NaN  \n",
       "1  [{'language': {'coding': [{'system': 'urn:ietf...                   NaN  \n",
       "2  [{'language': {'coding': [{'system': 'urn:ietf...                   NaN  \n",
       "3  [{'language': {'coding': [{'system': 'urn:ietf...                   NaN  \n",
       "4  [{'language': {'coding': [{'system': 'urn:ietf...                   NaN  "
      ]
     },
     "execution_count": 13,
     "metadata": {},
     "output_type": "execute_result"
    }
   ],
   "source": [
    "patients.head()"
   ]
  },
  {
   "cell_type": "code",
   "execution_count": 14,
   "metadata": {},
   "outputs": [
    {
     "data": {
      "text/html": [
       "<div>\n",
       "<style scoped>\n",
       "    .dataframe tbody tr th:only-of-type {\n",
       "        vertical-align: middle;\n",
       "    }\n",
       "\n",
       "    .dataframe tbody tr th {\n",
       "        vertical-align: top;\n",
       "    }\n",
       "\n",
       "    .dataframe thead th {\n",
       "        text-align: right;\n",
       "    }\n",
       "</style>\n",
       "<table border=\"1\" class=\"dataframe\">\n",
       "  <thead>\n",
       "    <tr style=\"text-align: right;\">\n",
       "      <th></th>\n",
       "      <th>resourceType</th>\n",
       "      <th>id</th>\n",
       "      <th>status</th>\n",
       "      <th>vaccineCode</th>\n",
       "      <th>patient</th>\n",
       "      <th>encounter</th>\n",
       "      <th>occurrenceDateTime</th>\n",
       "      <th>primarySource</th>\n",
       "    </tr>\n",
       "  </thead>\n",
       "  <tbody>\n",
       "    <tr>\n",
       "      <th>0</th>\n",
       "      <td>Immunization</td>\n",
       "      <td>c3f2624a-413e-4707-b58f-7946fe396bdf</td>\n",
       "      <td>completed</td>\n",
       "      <td>{'coding': [{'system': 'http://hl7.org/fhir/si...</td>\n",
       "      <td>{'reference': 'Patient/6c5d9ca9-54d7-42f5-bfae...</td>\n",
       "      <td>{'reference': 'Encounter/7518242e-0b07-41d2-8c...</td>\n",
       "      <td>2011-02-02T16:30:49-05:00</td>\n",
       "      <td>True</td>\n",
       "    </tr>\n",
       "    <tr>\n",
       "      <th>1</th>\n",
       "      <td>Immunization</td>\n",
       "      <td>00eb0348-af11-4809-a711-6f3db39fdc1a</td>\n",
       "      <td>completed</td>\n",
       "      <td>{'coding': [{'system': 'http://hl7.org/fhir/si...</td>\n",
       "      <td>{'reference': 'Patient/6c5d9ca9-54d7-42f5-bfae...</td>\n",
       "      <td>{'reference': 'Encounter/d4e1370a-a679-4570-a3...</td>\n",
       "      <td>2013-02-06T16:30:49-05:00</td>\n",
       "      <td>True</td>\n",
       "    </tr>\n",
       "    <tr>\n",
       "      <th>2</th>\n",
       "      <td>Immunization</td>\n",
       "      <td>118d01eb-6fef-49a6-b5f2-60537dbc3419</td>\n",
       "      <td>completed</td>\n",
       "      <td>{'coding': [{'system': 'http://hl7.org/fhir/si...</td>\n",
       "      <td>{'reference': 'Patient/6c5d9ca9-54d7-42f5-bfae...</td>\n",
       "      <td>{'reference': 'Encounter/f85c9571-e416-41e5-af...</td>\n",
       "      <td>2015-01-14T16:30:49-05:00</td>\n",
       "      <td>True</td>\n",
       "    </tr>\n",
       "    <tr>\n",
       "      <th>3</th>\n",
       "      <td>Immunization</td>\n",
       "      <td>65c980d4-0f72-4293-afe6-51d940930aaf</td>\n",
       "      <td>completed</td>\n",
       "      <td>{'coding': [{'system': 'http://hl7.org/fhir/si...</td>\n",
       "      <td>{'reference': 'Patient/6c5d9ca9-54d7-42f5-bfae...</td>\n",
       "      <td>{'reference': 'Encounter/f85c9571-e416-41e5-af...</td>\n",
       "      <td>2015-01-14T16:30:49-05:00</td>\n",
       "      <td>True</td>\n",
       "    </tr>\n",
       "    <tr>\n",
       "      <th>4</th>\n",
       "      <td>Immunization</td>\n",
       "      <td>d63bbe3f-1701-4f77-ad43-2ed85aaa838d</td>\n",
       "      <td>completed</td>\n",
       "      <td>{'coding': [{'system': 'http://hl7.org/fhir/si...</td>\n",
       "      <td>{'reference': 'Patient/6c5d9ca9-54d7-42f5-bfae...</td>\n",
       "      <td>{'reference': 'Encounter/cef72deb-ac37-4b71-ba...</td>\n",
       "      <td>2016-01-20T16:30:49-05:00</td>\n",
       "      <td>True</td>\n",
       "    </tr>\n",
       "  </tbody>\n",
       "</table>\n",
       "</div>"
      ],
      "text/plain": [
       "   resourceType                                    id     status  \\\n",
       "0  Immunization  c3f2624a-413e-4707-b58f-7946fe396bdf  completed   \n",
       "1  Immunization  00eb0348-af11-4809-a711-6f3db39fdc1a  completed   \n",
       "2  Immunization  118d01eb-6fef-49a6-b5f2-60537dbc3419  completed   \n",
       "3  Immunization  65c980d4-0f72-4293-afe6-51d940930aaf  completed   \n",
       "4  Immunization  d63bbe3f-1701-4f77-ad43-2ed85aaa838d  completed   \n",
       "\n",
       "                                         vaccineCode  \\\n",
       "0  {'coding': [{'system': 'http://hl7.org/fhir/si...   \n",
       "1  {'coding': [{'system': 'http://hl7.org/fhir/si...   \n",
       "2  {'coding': [{'system': 'http://hl7.org/fhir/si...   \n",
       "3  {'coding': [{'system': 'http://hl7.org/fhir/si...   \n",
       "4  {'coding': [{'system': 'http://hl7.org/fhir/si...   \n",
       "\n",
       "                                             patient  \\\n",
       "0  {'reference': 'Patient/6c5d9ca9-54d7-42f5-bfae...   \n",
       "1  {'reference': 'Patient/6c5d9ca9-54d7-42f5-bfae...   \n",
       "2  {'reference': 'Patient/6c5d9ca9-54d7-42f5-bfae...   \n",
       "3  {'reference': 'Patient/6c5d9ca9-54d7-42f5-bfae...   \n",
       "4  {'reference': 'Patient/6c5d9ca9-54d7-42f5-bfae...   \n",
       "\n",
       "                                           encounter  \\\n",
       "0  {'reference': 'Encounter/7518242e-0b07-41d2-8c...   \n",
       "1  {'reference': 'Encounter/d4e1370a-a679-4570-a3...   \n",
       "2  {'reference': 'Encounter/f85c9571-e416-41e5-af...   \n",
       "3  {'reference': 'Encounter/f85c9571-e416-41e5-af...   \n",
       "4  {'reference': 'Encounter/cef72deb-ac37-4b71-ba...   \n",
       "\n",
       "          occurrenceDateTime  primarySource  \n",
       "0  2011-02-02T16:30:49-05:00           True  \n",
       "1  2013-02-06T16:30:49-05:00           True  \n",
       "2  2015-01-14T16:30:49-05:00           True  \n",
       "3  2015-01-14T16:30:49-05:00           True  \n",
       "4  2016-01-20T16:30:49-05:00           True  "
      ]
     },
     "execution_count": 14,
     "metadata": {},
     "output_type": "execute_result"
    }
   ],
   "source": [
    "vaccinations.head()"
   ]
  },
  {
   "cell_type": "markdown",
   "metadata": {},
   "source": [
    "These look very much like the objects we explored in the [Patient](https://patient-browser.smarthealthit.org/index.html?config=r3#/patient/6) and [Object Viewers](http://docs.smarthealthit.org/fhir-viewer/index.html?url=https%3A%2F%2Fr3.smarthealthit.org%2FImmunization%2FRES177065).\n",
    "\n",
    "Now, we need to transform the data a bit to get at the bits we want to use in analysis:"
   ]
  },
  {
   "cell_type": "code",
   "execution_count": 16,
   "metadata": {},
   "outputs": [
    {
     "data": {
      "text/html": [
       "<div>\n",
       "<style scoped>\n",
       "    .dataframe tbody tr th:only-of-type {\n",
       "        vertical-align: middle;\n",
       "    }\n",
       "\n",
       "    .dataframe tbody tr th {\n",
       "        vertical-align: top;\n",
       "    }\n",
       "\n",
       "    .dataframe thead th {\n",
       "        text-align: right;\n",
       "    }\n",
       "</style>\n",
       "<table border=\"1\" class=\"dataframe\">\n",
       "  <thead>\n",
       "    <tr style=\"text-align: right;\">\n",
       "      <th></th>\n",
       "      <th>id</th>\n",
       "      <th>name</th>\n",
       "      <th>birthDate</th>\n",
       "      <th>gender</th>\n",
       "      <th>maritalStatus</th>\n",
       "      <th>address</th>\n",
       "    </tr>\n",
       "  </thead>\n",
       "  <tbody>\n",
       "    <tr>\n",
       "      <th>0</th>\n",
       "      <td>6c5d9ca9-54d7-42f5-bfae-a7c19cd217f2</td>\n",
       "      <td>Lemke, Abram</td>\n",
       "      <td>1965-01-13</td>\n",
       "      <td>male</td>\n",
       "      <td>M</td>\n",
       "      <td>Easthampton, Massachusetts 01027</td>\n",
       "    </tr>\n",
       "    <tr>\n",
       "      <th>1</th>\n",
       "      <td>58c297c4-d684-4677-8024-01131d93835e</td>\n",
       "      <td>Wintheiser, Aleta</td>\n",
       "      <td>1971-04-05</td>\n",
       "      <td>female</td>\n",
       "      <td>M</td>\n",
       "      <td>Everett, Massachusetts 02149</td>\n",
       "    </tr>\n",
       "    <tr>\n",
       "      <th>2</th>\n",
       "      <td>538a9a4e-8437-47d3-8c01-1a17dca8f0be</td>\n",
       "      <td>Alaniz, Alfredo</td>\n",
       "      <td>1923-03-24</td>\n",
       "      <td>male</td>\n",
       "      <td>M</td>\n",
       "      <td>Brockton, Massachusetts 02351</td>\n",
       "    </tr>\n",
       "    <tr>\n",
       "      <th>3</th>\n",
       "      <td>c6c60742-8694-46e4-bb42-b00bf6d8b536</td>\n",
       "      <td>Walsh, Alyce</td>\n",
       "      <td>1965-10-27</td>\n",
       "      <td>female</td>\n",
       "      <td>M</td>\n",
       "      <td>New Bedford, Massachusetts 02748</td>\n",
       "    </tr>\n",
       "    <tr>\n",
       "      <th>4</th>\n",
       "      <td>fbfec681-d357-4b28-b1d2-5db6434c7846</td>\n",
       "      <td>Bednar, Arnette</td>\n",
       "      <td>1942-07-04</td>\n",
       "      <td>female</td>\n",
       "      <td>M</td>\n",
       "      <td>Randolph, Massachusetts 02368</td>\n",
       "    </tr>\n",
       "  </tbody>\n",
       "</table>\n",
       "</div>"
      ],
      "text/plain": [
       "                                     id               name   birthDate  \\\n",
       "0  6c5d9ca9-54d7-42f5-bfae-a7c19cd217f2       Lemke, Abram  1965-01-13   \n",
       "1  58c297c4-d684-4677-8024-01131d93835e  Wintheiser, Aleta  1971-04-05   \n",
       "2  538a9a4e-8437-47d3-8c01-1a17dca8f0be    Alaniz, Alfredo  1923-03-24   \n",
       "3  c6c60742-8694-46e4-bb42-b00bf6d8b536       Walsh, Alyce  1965-10-27   \n",
       "4  fbfec681-d357-4b28-b1d2-5db6434c7846    Bednar, Arnette  1942-07-04   \n",
       "\n",
       "   gender maritalStatus                           address  \n",
       "0    male             M  Easthampton, Massachusetts 01027  \n",
       "1  female             M      Everett, Massachusetts 02149  \n",
       "2    male             M     Brockton, Massachusetts 02351  \n",
       "3  female             M  New Bedford, Massachusetts 02748  \n",
       "4  female             M     Randolph, Massachusetts 02368  "
      ]
     },
     "execution_count": 16,
     "metadata": {},
     "output_type": "execute_result"
    }
   ],
   "source": [
    "def clean_vaccination(row):\n",
    "    # Re-order Rows\n",
    "    outrow = row.reindex(['id', 'date', 'patient', 'status', 'vaccineCode'])\n",
    "    # Extract nested patient id\n",
    "    outrow['patient'] = outrow['patient']['reference'].split('/')[1]\n",
    "    #print(row['patient'])\n",
    "    # Extract nested code value\n",
    "    outrow['vaccineCode'] = int(outrow['vaccineCode']['coding'][0]['code'])\n",
    "    return(outrow)\n",
    "\n",
    "def clean_patient(row):\n",
    "    # Select only a couple columns for simplicity and reorder them\n",
    "    outrow = row[['id', 'name', 'birthDate', 'gender', 'maritalStatus']]\n",
    "    address = row['address'][0]\n",
    "    name = row['name'][0]\n",
    "    \n",
    "    outrow['name'] = f\"{name['family']}, {name['given'][0]}\"\n",
    "    \n",
    "    outrow['address'] = f\"{address['city']}, {address['state']} {address['postalCode'] if ('postalCode' in address) else '' }\"\n",
    "    outrow['maritalStatus'] = outrow['maritalStatus']['text'] if not pd.isna(outrow['maritalStatus']) else \"\"\n",
    "    return(outrow)\n",
    "\n",
    "\n",
    "clean_vaccinations = vaccinations.apply(clean_vaccination, result_type='expand', axis=1)\n",
    "clean_patients = patients.apply(clean_patient, result_type='expand', axis = 1)\n",
    "\n",
    "clean_patients.head()"
   ]
  },
  {
   "cell_type": "code",
   "execution_count": 17,
   "metadata": {},
   "outputs": [
    {
     "data": {
      "text/html": [
       "<div>\n",
       "<style scoped>\n",
       "    .dataframe tbody tr th:only-of-type {\n",
       "        vertical-align: middle;\n",
       "    }\n",
       "\n",
       "    .dataframe tbody tr th {\n",
       "        vertical-align: top;\n",
       "    }\n",
       "\n",
       "    .dataframe thead th {\n",
       "        text-align: right;\n",
       "    }\n",
       "</style>\n",
       "<table border=\"1\" class=\"dataframe\">\n",
       "  <thead>\n",
       "    <tr style=\"text-align: right;\">\n",
       "      <th></th>\n",
       "      <th>id</th>\n",
       "      <th>date</th>\n",
       "      <th>patient</th>\n",
       "      <th>status</th>\n",
       "      <th>vaccineCode</th>\n",
       "    </tr>\n",
       "  </thead>\n",
       "  <tbody>\n",
       "    <tr>\n",
       "      <th>0</th>\n",
       "      <td>c3f2624a-413e-4707-b58f-7946fe396bdf</td>\n",
       "      <td>NaN</td>\n",
       "      <td>6c5d9ca9-54d7-42f5-bfae-a7c19cd217f2</td>\n",
       "      <td>completed</td>\n",
       "      <td>140</td>\n",
       "    </tr>\n",
       "    <tr>\n",
       "      <th>1</th>\n",
       "      <td>00eb0348-af11-4809-a711-6f3db39fdc1a</td>\n",
       "      <td>NaN</td>\n",
       "      <td>6c5d9ca9-54d7-42f5-bfae-a7c19cd217f2</td>\n",
       "      <td>completed</td>\n",
       "      <td>140</td>\n",
       "    </tr>\n",
       "    <tr>\n",
       "      <th>2</th>\n",
       "      <td>118d01eb-6fef-49a6-b5f2-60537dbc3419</td>\n",
       "      <td>NaN</td>\n",
       "      <td>6c5d9ca9-54d7-42f5-bfae-a7c19cd217f2</td>\n",
       "      <td>completed</td>\n",
       "      <td>121</td>\n",
       "    </tr>\n",
       "    <tr>\n",
       "      <th>3</th>\n",
       "      <td>65c980d4-0f72-4293-afe6-51d940930aaf</td>\n",
       "      <td>NaN</td>\n",
       "      <td>6c5d9ca9-54d7-42f5-bfae-a7c19cd217f2</td>\n",
       "      <td>completed</td>\n",
       "      <td>140</td>\n",
       "    </tr>\n",
       "    <tr>\n",
       "      <th>4</th>\n",
       "      <td>d63bbe3f-1701-4f77-ad43-2ed85aaa838d</td>\n",
       "      <td>NaN</td>\n",
       "      <td>6c5d9ca9-54d7-42f5-bfae-a7c19cd217f2</td>\n",
       "      <td>completed</td>\n",
       "      <td>121</td>\n",
       "    </tr>\n",
       "  </tbody>\n",
       "</table>\n",
       "</div>"
      ],
      "text/plain": [
       "                                     id  date  \\\n",
       "0  c3f2624a-413e-4707-b58f-7946fe396bdf   NaN   \n",
       "1  00eb0348-af11-4809-a711-6f3db39fdc1a   NaN   \n",
       "2  118d01eb-6fef-49a6-b5f2-60537dbc3419   NaN   \n",
       "3  65c980d4-0f72-4293-afe6-51d940930aaf   NaN   \n",
       "4  d63bbe3f-1701-4f77-ad43-2ed85aaa838d   NaN   \n",
       "\n",
       "                                patient     status  vaccineCode  \n",
       "0  6c5d9ca9-54d7-42f5-bfae-a7c19cd217f2  completed          140  \n",
       "1  6c5d9ca9-54d7-42f5-bfae-a7c19cd217f2  completed          140  \n",
       "2  6c5d9ca9-54d7-42f5-bfae-a7c19cd217f2  completed          121  \n",
       "3  6c5d9ca9-54d7-42f5-bfae-a7c19cd217f2  completed          140  \n",
       "4  6c5d9ca9-54d7-42f5-bfae-a7c19cd217f2  completed          121  "
      ]
     },
     "execution_count": 17,
     "metadata": {},
     "output_type": "execute_result"
    }
   ],
   "source": [
    "clean_vaccinations.head()"
   ]
  },
  {
   "cell_type": "markdown",
   "metadata": {},
   "source": [
    "Finally, we will join these two data frames by the patient id to prepare the data for analysis. "
   ]
  },
  {
   "cell_type": "code",
   "execution_count": 18,
   "metadata": {},
   "outputs": [
    {
     "data": {
      "text/html": [
       "<div>\n",
       "<style scoped>\n",
       "    .dataframe tbody tr th:only-of-type {\n",
       "        vertical-align: middle;\n",
       "    }\n",
       "\n",
       "    .dataframe tbody tr th {\n",
       "        vertical-align: top;\n",
       "    }\n",
       "\n",
       "    .dataframe thead th {\n",
       "        text-align: right;\n",
       "    }\n",
       "</style>\n",
       "<table border=\"1\" class=\"dataframe\">\n",
       "  <thead>\n",
       "    <tr style=\"text-align: right;\">\n",
       "      <th></th>\n",
       "      <th>id_x</th>\n",
       "      <th>name</th>\n",
       "      <th>birthDate</th>\n",
       "      <th>gender</th>\n",
       "      <th>maritalStatus</th>\n",
       "      <th>address</th>\n",
       "      <th>id_y</th>\n",
       "      <th>date</th>\n",
       "      <th>patient</th>\n",
       "      <th>status</th>\n",
       "      <th>vaccineCode</th>\n",
       "    </tr>\n",
       "  </thead>\n",
       "  <tbody>\n",
       "    <tr>\n",
       "      <th>0</th>\n",
       "      <td>6c5d9ca9-54d7-42f5-bfae-a7c19cd217f2</td>\n",
       "      <td>Lemke, Abram</td>\n",
       "      <td>1965-01-13</td>\n",
       "      <td>male</td>\n",
       "      <td>M</td>\n",
       "      <td>Easthampton, Massachusetts 01027</td>\n",
       "      <td>c3f2624a-413e-4707-b58f-7946fe396bdf</td>\n",
       "      <td>NaN</td>\n",
       "      <td>6c5d9ca9-54d7-42f5-bfae-a7c19cd217f2</td>\n",
       "      <td>completed</td>\n",
       "      <td>140</td>\n",
       "    </tr>\n",
       "    <tr>\n",
       "      <th>1</th>\n",
       "      <td>6c5d9ca9-54d7-42f5-bfae-a7c19cd217f2</td>\n",
       "      <td>Lemke, Abram</td>\n",
       "      <td>1965-01-13</td>\n",
       "      <td>male</td>\n",
       "      <td>M</td>\n",
       "      <td>Easthampton, Massachusetts 01027</td>\n",
       "      <td>00eb0348-af11-4809-a711-6f3db39fdc1a</td>\n",
       "      <td>NaN</td>\n",
       "      <td>6c5d9ca9-54d7-42f5-bfae-a7c19cd217f2</td>\n",
       "      <td>completed</td>\n",
       "      <td>140</td>\n",
       "    </tr>\n",
       "    <tr>\n",
       "      <th>2</th>\n",
       "      <td>6c5d9ca9-54d7-42f5-bfae-a7c19cd217f2</td>\n",
       "      <td>Lemke, Abram</td>\n",
       "      <td>1965-01-13</td>\n",
       "      <td>male</td>\n",
       "      <td>M</td>\n",
       "      <td>Easthampton, Massachusetts 01027</td>\n",
       "      <td>118d01eb-6fef-49a6-b5f2-60537dbc3419</td>\n",
       "      <td>NaN</td>\n",
       "      <td>6c5d9ca9-54d7-42f5-bfae-a7c19cd217f2</td>\n",
       "      <td>completed</td>\n",
       "      <td>121</td>\n",
       "    </tr>\n",
       "    <tr>\n",
       "      <th>3</th>\n",
       "      <td>6c5d9ca9-54d7-42f5-bfae-a7c19cd217f2</td>\n",
       "      <td>Lemke, Abram</td>\n",
       "      <td>1965-01-13</td>\n",
       "      <td>male</td>\n",
       "      <td>M</td>\n",
       "      <td>Easthampton, Massachusetts 01027</td>\n",
       "      <td>65c980d4-0f72-4293-afe6-51d940930aaf</td>\n",
       "      <td>NaN</td>\n",
       "      <td>6c5d9ca9-54d7-42f5-bfae-a7c19cd217f2</td>\n",
       "      <td>completed</td>\n",
       "      <td>140</td>\n",
       "    </tr>\n",
       "    <tr>\n",
       "      <th>4</th>\n",
       "      <td>6c5d9ca9-54d7-42f5-bfae-a7c19cd217f2</td>\n",
       "      <td>Lemke, Abram</td>\n",
       "      <td>1965-01-13</td>\n",
       "      <td>male</td>\n",
       "      <td>M</td>\n",
       "      <td>Easthampton, Massachusetts 01027</td>\n",
       "      <td>d63bbe3f-1701-4f77-ad43-2ed85aaa838d</td>\n",
       "      <td>NaN</td>\n",
       "      <td>6c5d9ca9-54d7-42f5-bfae-a7c19cd217f2</td>\n",
       "      <td>completed</td>\n",
       "      <td>121</td>\n",
       "    </tr>\n",
       "  </tbody>\n",
       "</table>\n",
       "</div>"
      ],
      "text/plain": [
       "                                   id_x          name   birthDate gender  \\\n",
       "0  6c5d9ca9-54d7-42f5-bfae-a7c19cd217f2  Lemke, Abram  1965-01-13   male   \n",
       "1  6c5d9ca9-54d7-42f5-bfae-a7c19cd217f2  Lemke, Abram  1965-01-13   male   \n",
       "2  6c5d9ca9-54d7-42f5-bfae-a7c19cd217f2  Lemke, Abram  1965-01-13   male   \n",
       "3  6c5d9ca9-54d7-42f5-bfae-a7c19cd217f2  Lemke, Abram  1965-01-13   male   \n",
       "4  6c5d9ca9-54d7-42f5-bfae-a7c19cd217f2  Lemke, Abram  1965-01-13   male   \n",
       "\n",
       "  maritalStatus                           address  \\\n",
       "0             M  Easthampton, Massachusetts 01027   \n",
       "1             M  Easthampton, Massachusetts 01027   \n",
       "2             M  Easthampton, Massachusetts 01027   \n",
       "3             M  Easthampton, Massachusetts 01027   \n",
       "4             M  Easthampton, Massachusetts 01027   \n",
       "\n",
       "                                   id_y  date  \\\n",
       "0  c3f2624a-413e-4707-b58f-7946fe396bdf   NaN   \n",
       "1  00eb0348-af11-4809-a711-6f3db39fdc1a   NaN   \n",
       "2  118d01eb-6fef-49a6-b5f2-60537dbc3419   NaN   \n",
       "3  65c980d4-0f72-4293-afe6-51d940930aaf   NaN   \n",
       "4  d63bbe3f-1701-4f77-ad43-2ed85aaa838d   NaN   \n",
       "\n",
       "                                patient     status  vaccineCode  \n",
       "0  6c5d9ca9-54d7-42f5-bfae-a7c19cd217f2  completed          140  \n",
       "1  6c5d9ca9-54d7-42f5-bfae-a7c19cd217f2  completed          140  \n",
       "2  6c5d9ca9-54d7-42f5-bfae-a7c19cd217f2  completed          121  \n",
       "3  6c5d9ca9-54d7-42f5-bfae-a7c19cd217f2  completed          140  \n",
       "4  6c5d9ca9-54d7-42f5-bfae-a7c19cd217f2  completed          121  "
      ]
     },
     "execution_count": 18,
     "metadata": {},
     "output_type": "execute_result"
    }
   ],
   "source": [
    "# Merge\n",
    "merged = pd.merge(clean_patients, clean_vaccinations, left_on='id', right_on='patient')\n",
    "merged.head()"
   ]
  },
  {
   "cell_type": "markdown",
   "metadata": {},
   "source": [
    "Since we want to use age in the analysis but are given birth date, we need to calculate this value."
   ]
  },
  {
   "cell_type": "code",
   "execution_count": 19,
   "metadata": {},
   "outputs": [
    {
     "data": {
      "text/html": [
       "<div>\n",
       "<style scoped>\n",
       "    .dataframe tbody tr th:only-of-type {\n",
       "        vertical-align: middle;\n",
       "    }\n",
       "\n",
       "    .dataframe tbody tr th {\n",
       "        vertical-align: top;\n",
       "    }\n",
       "\n",
       "    .dataframe thead th {\n",
       "        text-align: right;\n",
       "    }\n",
       "</style>\n",
       "<table border=\"1\" class=\"dataframe\">\n",
       "  <thead>\n",
       "    <tr style=\"text-align: right;\">\n",
       "      <th></th>\n",
       "      <th>id_x</th>\n",
       "      <th>name</th>\n",
       "      <th>birthDate</th>\n",
       "      <th>gender</th>\n",
       "      <th>maritalStatus</th>\n",
       "      <th>address</th>\n",
       "      <th>id_y</th>\n",
       "      <th>date</th>\n",
       "      <th>patient</th>\n",
       "      <th>status</th>\n",
       "      <th>vaccineCode</th>\n",
       "      <th>age</th>\n",
       "    </tr>\n",
       "  </thead>\n",
       "  <tbody>\n",
       "    <tr>\n",
       "      <th>1282</th>\n",
       "      <td>a845ead4-d9de-42eb-b4b5-eb21a8963578</td>\n",
       "      <td>Pagac, Yi</td>\n",
       "      <td>1968-04-20</td>\n",
       "      <td>female</td>\n",
       "      <td>S</td>\n",
       "      <td>Monson, Massachusetts</td>\n",
       "      <td>8da42317-d17a-4a0a-8537-ac445088e135</td>\n",
       "      <td>NaN</td>\n",
       "      <td>a845ead4-d9de-42eb-b4b5-eb21a8963578</td>\n",
       "      <td>completed</td>\n",
       "      <td>121</td>\n",
       "      <td>52</td>\n",
       "    </tr>\n",
       "    <tr>\n",
       "      <th>1283</th>\n",
       "      <td>a845ead4-d9de-42eb-b4b5-eb21a8963578</td>\n",
       "      <td>Pagac, Yi</td>\n",
       "      <td>1968-04-20</td>\n",
       "      <td>female</td>\n",
       "      <td>S</td>\n",
       "      <td>Monson, Massachusetts</td>\n",
       "      <td>75727fe9-ac78-4da4-93a2-43119dc6176a</td>\n",
       "      <td>NaN</td>\n",
       "      <td>a845ead4-d9de-42eb-b4b5-eb21a8963578</td>\n",
       "      <td>completed</td>\n",
       "      <td>140</td>\n",
       "      <td>52</td>\n",
       "    </tr>\n",
       "    <tr>\n",
       "      <th>1284</th>\n",
       "      <td>a845ead4-d9de-42eb-b4b5-eb21a8963578</td>\n",
       "      <td>Pagac, Yi</td>\n",
       "      <td>1968-04-20</td>\n",
       "      <td>female</td>\n",
       "      <td>S</td>\n",
       "      <td>Monson, Massachusetts</td>\n",
       "      <td>09f4e407-f5ae-4b6d-bdb7-3a6f8ca82fbe</td>\n",
       "      <td>NaN</td>\n",
       "      <td>a845ead4-d9de-42eb-b4b5-eb21a8963578</td>\n",
       "      <td>completed</td>\n",
       "      <td>121</td>\n",
       "      <td>52</td>\n",
       "    </tr>\n",
       "    <tr>\n",
       "      <th>1285</th>\n",
       "      <td>a845ead4-d9de-42eb-b4b5-eb21a8963578</td>\n",
       "      <td>Pagac, Yi</td>\n",
       "      <td>1968-04-20</td>\n",
       "      <td>female</td>\n",
       "      <td>S</td>\n",
       "      <td>Monson, Massachusetts</td>\n",
       "      <td>6f312204-50e8-4b47-b8ea-b7135d1e9646</td>\n",
       "      <td>NaN</td>\n",
       "      <td>a845ead4-d9de-42eb-b4b5-eb21a8963578</td>\n",
       "      <td>completed</td>\n",
       "      <td>140</td>\n",
       "      <td>52</td>\n",
       "    </tr>\n",
       "    <tr>\n",
       "      <th>1286</th>\n",
       "      <td>a845ead4-d9de-42eb-b4b5-eb21a8963578</td>\n",
       "      <td>Pagac, Yi</td>\n",
       "      <td>1968-04-20</td>\n",
       "      <td>female</td>\n",
       "      <td>S</td>\n",
       "      <td>Monson, Massachusetts</td>\n",
       "      <td>9748b383-8394-4fbc-a2bf-b966306d9fe0</td>\n",
       "      <td>NaN</td>\n",
       "      <td>a845ead4-d9de-42eb-b4b5-eb21a8963578</td>\n",
       "      <td>completed</td>\n",
       "      <td>113</td>\n",
       "      <td>52</td>\n",
       "    </tr>\n",
       "  </tbody>\n",
       "</table>\n",
       "</div>"
      ],
      "text/plain": [
       "                                      id_x       name   birthDate  gender  \\\n",
       "1282  a845ead4-d9de-42eb-b4b5-eb21a8963578  Pagac, Yi  1968-04-20  female   \n",
       "1283  a845ead4-d9de-42eb-b4b5-eb21a8963578  Pagac, Yi  1968-04-20  female   \n",
       "1284  a845ead4-d9de-42eb-b4b5-eb21a8963578  Pagac, Yi  1968-04-20  female   \n",
       "1285  a845ead4-d9de-42eb-b4b5-eb21a8963578  Pagac, Yi  1968-04-20  female   \n",
       "1286  a845ead4-d9de-42eb-b4b5-eb21a8963578  Pagac, Yi  1968-04-20  female   \n",
       "\n",
       "     maritalStatus                 address  \\\n",
       "1282             S  Monson, Massachusetts    \n",
       "1283             S  Monson, Massachusetts    \n",
       "1284             S  Monson, Massachusetts    \n",
       "1285             S  Monson, Massachusetts    \n",
       "1286             S  Monson, Massachusetts    \n",
       "\n",
       "                                      id_y  date  \\\n",
       "1282  8da42317-d17a-4a0a-8537-ac445088e135   NaN   \n",
       "1283  75727fe9-ac78-4da4-93a2-43119dc6176a   NaN   \n",
       "1284  09f4e407-f5ae-4b6d-bdb7-3a6f8ca82fbe   NaN   \n",
       "1285  6f312204-50e8-4b47-b8ea-b7135d1e9646   NaN   \n",
       "1286  9748b383-8394-4fbc-a2bf-b966306d9fe0   NaN   \n",
       "\n",
       "                                   patient     status  vaccineCode  age  \n",
       "1282  a845ead4-d9de-42eb-b4b5-eb21a8963578  completed          121   52  \n",
       "1283  a845ead4-d9de-42eb-b4b5-eb21a8963578  completed          140   52  \n",
       "1284  a845ead4-d9de-42eb-b4b5-eb21a8963578  completed          121   52  \n",
       "1285  a845ead4-d9de-42eb-b4b5-eb21a8963578  completed          140   52  \n",
       "1286  a845ead4-d9de-42eb-b4b5-eb21a8963578  completed          113   52  "
      ]
     },
     "execution_count": 19,
     "metadata": {},
     "output_type": "execute_result"
    }
   ],
   "source": [
    "from datetime import datetime\n",
    "from dateutil.relativedelta import relativedelta\n",
    "\n",
    "merged['age'] = merged['birthDate'].apply(lambda birthDate: relativedelta(datetime.today(), datetime.strptime(birthDate, '%Y-%m-%d')).years) \n",
    "\n",
    "merged.tail()"
   ]
  },
  {
   "cell_type": "markdown",
   "metadata": {},
   "source": [
    "And now, we can do our analysis!\n",
    "\n",
    "We're going to just plot a simple relationship between the number of vaccinations and age. "
   ]
  },
  {
   "cell_type": "code",
   "execution_count": 20,
   "metadata": {},
   "outputs": [
    {
     "data": {
      "text/plain": [
       "<matplotlib.axes._subplots.AxesSubplot at 0x2155194d0d0>"
      ]
     },
     "execution_count": 20,
     "metadata": {},
     "output_type": "execute_result"
    },
    {
     "data": {
      "image/png": "[encoded data removed]",
      "text/plain": [
       "<Figure size 1080x720 with 1 Axes>"
      ]
     },
     "metadata": {
      "needs_background": "light"
     },
     "output_type": "display_data"
    }
   ],
   "source": [
    "import matplotlib.pyplot as plt\n",
    "%matplotlib inline\n",
    "plt.rcParams['figure.figsize'] = [15, 10]\n",
    "\n",
    "\n",
    "agg = merged.groupby(['patient', 'age']).count()['vaccineCode']\n",
    "\n",
    "plot_df = pd.DataFrame({'age': list(agg.index.get_level_values(1)), 'vac_count': agg}) \n",
    "\n",
    "plot_df.head()\n",
    "\n",
    "plot_df.plot.scatter(x='age', y='vac_count')\n"
   ]
  },
  {
   "cell_type": "markdown",
   "metadata": {},
   "source": [
    "Now, let's focus our analysis on only those vaccinations that have code 140 - flu shots. "
   ]
  },
  {
   "cell_type": "code",
   "execution_count": 21,
   "metadata": {},
   "outputs": [
    {
     "data": {
      "text/plain": [
       "<matplotlib.axes._subplots.AxesSubplot at 0x21550c89760>"
      ]
     },
     "execution_count": 21,
     "metadata": {},
     "output_type": "execute_result"
    },
    {
     "data": {
      "image/png": "[encoded data removed]",
      "text/plain": [
       "<Figure size 1080x720 with 1 Axes>"
      ]
     },
     "metadata": {
      "needs_background": "light"
     },
     "output_type": "display_data"
    }
   ],
   "source": [
    "agg = merged[merged.vaccineCode == 140].groupby(['patient', 'age']).count()['vaccineCode']\n",
    "\n",
    "plt.rcParams['figure.figsize'] = [15, 10]\n",
    "\n",
    "plot_df = pd.DataFrame({'age': list(agg.index.get_level_values(1)), 'vac_count': agg}) \n",
    "\n",
    "plot_df.head()\n",
    "\n",
    "plot_df.plot.scatter(x='age', y='vac_count')"
   ]
  },
  {
   "cell_type": "markdown",
   "metadata": {},
   "source": [
    "## Role in a Learning Health System\n",
    "\n",
    "Although this is a contrived example and very simple analysis, this type of figure might be useful in many different contexts - and could be fed back upstream to support decision makers at the public, population, practice, or patient level. "
   ]
  }
 ],
 "metadata": {
  "kernelspec": {
   "display_name": "Python 3",
   "language": "python",
   "name": "python3"
  },
  "language_info": {
   "codemirror_mode": {
    "name": "ipython",
    "version": 3
   },
   "file_extension": ".py",
   "mimetype": "text/x-python",
   "name": "python",
   "nbconvert_exporter": "python",
   "pygments_lexer": "ipython3",
   "version": "3.8.3"
  }
 },
 "nbformat": 4,
 "nbformat_minor": 4
}
