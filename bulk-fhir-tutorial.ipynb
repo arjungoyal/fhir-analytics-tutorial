{
 "cells": [
  {
   "cell_type": "markdown",
   "metadata": {},
   "source": [
    "# Analyzing Data Using the FHIR Bulk Data Export API\n",
    "\n",
    "The Bulk Data API is still very early in it's development, which you can follow here: https://github.com/smart-on-fhir/bulk-data-server.git. \n",
    "\n",
    "In this notebook, we'll implement a very simple client that can access and download [FHIR bulk data](http://wiki.hl7.org/index.php?title=201801_Bulk_Data) from the [Demo SMART Bulk Data Server](https://bulk-data.smarthealthit.org). This notebook is based on a [FHIR Connectathon Project](https://github.com/plangthorne/python-fhir/blob/master/demo/BulkDataDemo.ipynb) that was also set up to implement simple authentication according to [SMART Authorization Guide protocol](http://docs.smarthealthit.org/authorization/backend-services/), but we're ignoring this aspect since it's a bit technical and out of scope for this class. "
   ]
  },
  {
   "cell_type": "markdown",
   "metadata": {},
   "source": [
    "## Initial Setup\n",
    "1. Download and install Anaconda: https://www.anaconda.com/distribution/\n",
    "\n",
    "2. Install the [requests](http://docs.python-requests.org/en/master/), [numpy](https://pypi.org/project/numpy/), and [pandas](https://pandas.pydata.org/) packages: `conda install requests pandas numpy`.\n",
    "\n",
    "3. Clone project from github: `git clone https://github.com/uw-fhir/bulk-fhir-tutorial.git`\n",
    "\n",
    "4. Open `bulk-fhir-tutorial.ipynb` in JupyterLab or Jupyter Notebook"
   ]
  },
  {
   "cell_type": "markdown",
   "metadata": {},
   "source": [
    "## Server Configuration\n",
    "\n",
    "We'll start by reading required config parameters, which define the FHIR server and other options. We'll be testing against the [Demo SMART Bulk Data Server](https://bulk-data.smarthealthit.org). "
   ]
  },
  {
   "cell_type": "code",
   "execution_count": 12,
   "metadata": {},
   "outputs": [],
   "source": [
    "import yaml\n",
    "    \n",
    "with open('config.yaml') as f:\n",
    "    config = yaml.load(f)"
   ]
  },
  {
   "cell_type": "markdown",
   "metadata": {},
   "source": [
    "# Generating a Data Analysis Pipeline\n",
    "\n",
    "Creating maintainable and comprehensive pipelines for data analysis - where the process becomes as automated as possible - is incredibly useful for rapid iteration, reprucibility, collaboration, easier updates, clarity, and documentation purposes. Also, pipelines can be great starting points for building more generalizable automated tools. \n",
    "\n",
    "To create this type of pipeline, we want to be able to query for required data at the source, automatically transform and load this data into a suitable format, and load it into the desired analysis software. \n",
    "\n",
    "In this tutorial, we'll demo this approach the nascent Bulk FHIR API and Python to\n",
    "1. Request at the data we want to analyze from the FHIR server\n",
    "2. Access and transform the data for analysis using [pandas](https://pandas.pydata.org/)"
   ]
  },
  {
   "cell_type": "markdown",
   "metadata": {},
   "source": [
    "## 1. Explore the Dataset\n",
    "\n",
    "First, we're going to use the [SMART Patient Browser](https://patient-browser.smarthealthit.org/index.html?config=r3#/) tool to explore the patients and associated data. \n",
    "\n",
    "Click on the tool and play around with it a bit, clicking on the different listed [Patients](https://www.hl7.org/fhir/patient.html) and then exploring their associated FHIR Resources like [Immunizations](https://www.hl7.org/fhir/immunization.html) or [Encounters](https://www.hl7.org/fhir/encounter.html). "
   ]
  },
  {
   "cell_type": "markdown",
   "metadata": {},
   "source": [
    "## 2. Generate the Query\n",
    "\n",
    "Now that we have a feel for the data, we need to decide what specific resources we're interested in and generate a query by using the proper [FHIR Bulk Data query parameters](https://github.com/smart-on-fhir/fhir-bulk-data-docs/blob/master/export.md#query-parameters). \n",
    "\n",
    "We can first try out our downloads by using a very simple tool made by the SMART folks - [The FHIR Bulk Downloader](https://bulk-data.smarthealthit.org/sample-app/index.html?server=https%3A%2F%2Fbulk-data.smarthealthit.org%2FeyJlcnIiOiIiLCJwYWdlIjoxMDAwMCwiZHVyIjoxMCwidGx0IjoxNSwibSI6MX0%2Ffhir)\n",
    "\n",
    "We'll focus on the Patient-level export since we're only interested in data that is in some way associated with a Patient (see https://github.com/smart-on-fhir/fhir-bulk-data-docs/blob/master/export.md#query-parameters for more information), and want to download resources that will be useful for analysis. \n",
    "\n",
    "In this example, I'll be looking at [Immunizations](https://www.hl7.org/fhir/immunization.html). \n",
    "\n",
    "1. Go to [The FHIR Bulk Downloader](https://bulk-data.smarthealthit.org/sample-app/index.html?server=https%3A%2F%2Fbulk-data.smarthealthit.org%2FeyJlcnIiOiIiLCJwYWdlIjoxMDAwMCwiZHVyIjoxMCwidGx0IjoxNSwibSI6MX0%2Ffhir)\n",
    "\n",
    "2. Select the desired resources, patient groups, and time frame. \n",
    "\n",
    "3. Notice how each selection modifies the download link url.\n",
    "\n",
    "4. Try modifying the url yourself using the available query parameters, and see what happens after pressing `Download`. \n",
    "   \n",
    "   For example, type this in: `https://bulk-data.smarthealthit.org/eyJlcnIiOiIiLCJwYWdlIjoxMDAwMCwiZHVyIjoxMCwidGx0IjoxNSwibSI6MX0/fhir/Patient/$export?_type=Patient,Immunization&_typeFilter=Immunization%3Fvaccine-code%3D140,Patient%3Fgender=female`\n",
    "   \n",
    "5. Note this generated url string for use later in the tutorial to get the desired dataset. I will be using the query above. "
   ]
  },
  {
   "cell_type": "markdown",
   "metadata": {},
   "source": [
    "## 3. Send Bulk Data Request\n",
    "\n",
    "Now that we know what query string we'll use to access our desired dataset, we can send a request to the FHIR endpoint which will tell the endpoint to start compiling the data we require. "
   ]
  },
  {
   "cell_type": "code",
   "execution_count": 13,
   "metadata": {},
   "outputs": [
    {
     "data": {
      "text/plain": [
       "<Response [202]>"
      ]
     },
     "metadata": {},
     "output_type": "display_data"
    },
    {
     "data": {
      "text/plain": [
       "'https://bulk-data.smarthealthit.org/eyJlcnIiOiIiLCJwYWdlIjoxMDAwMCwiZHVyIjoxMCwidGx0IjoxNSwibSI6MX0/fhir/Patient/$export?_type=Patient,Immunization&_typeFilter=Patient?gender=female,Immunization?vaccine-code=140'"
      ]
     },
     "metadata": {},
     "output_type": "display_data"
    },
    {
     "data": {
      "text/plain": [
       "{'resourceType': 'OperationOutcome',\n",
       " 'text': {'status': 'generated',\n",
       "  'div': '<div xmlns=\"http://www.w3.org/1999/xhtml\"><h1>Operation Outcome</h1><table border=\"0\"><tr><td style=\"font-weight:bold;\">information</td><td>[]</td><td><pre>Your request have been accepted. You can check it\\'s status at &quot;https://bulk-data.smarthealthit.org/eyJlcnIiOiIiLCJwYWdlIjoxMDAwMCwiZHVyIjoxMCwidGx0IjoxNSwibSI6MSwidHlwZSI6IlBhdGllbnQsSW1tdW5pemF0aW9uIiwiaWQiOiI4M2NiNWQzNTAxMmVmM2QzYzA3ZmI2M2E5NzZjN2I4NDVjZjA2NmRkZTMyMzMwYzZiMjRhMTM2Nzc1M2QxNDI4IiwicmVxdWVzdFN0YXJ0IjoxNTQ5NDIzNjY5OTk3LCJzZWN1cmUiOmZhbHNlLCJvdXRwdXRGb3JtYXQiOiJuZGpzb24iLCJncm91cCI6bnVsbCwicmVxdWVzdCI6Imh0dHA6Ly9idWxrLWRhdGEuc21hcnRoZWFsdGhpdC5vcmcvZXlKbGNuSWlPaUlpTENKd1lXZGxJam94TURBd01Dd2laSFZ5SWpveE1Dd2lkR3gwSWpveE5Td2liU0k2TVgwL2ZoaXIvUGF0aWVudC8kZXhwb3J0P190eXBlPVBhdGllbnQsSW1tdW5pemF0aW9uJl90eXBlRmlsdGVyPVBhdGllbnQ_Z2VuZGVyPWZlbWFsZSxJbW11bml6YXRpb24_dmFjY2luZS1jb2RlPTE0MCJ9/fhir/bulkstatus&quot;</pre></td></tr></table></div>'},\n",
       " 'issue': [{'severity': 'information',\n",
       "   'code': 'processing',\n",
       "   'diagnostics': 'Your request have been accepted. You can check it\\'s status at \"https://bulk-data.smarthealthit.org/eyJlcnIiOiIiLCJwYWdlIjoxMDAwMCwiZHVyIjoxMCwidGx0IjoxNSwibSI6MSwidHlwZSI6IlBhdGllbnQsSW1tdW5pemF0aW9uIiwiaWQiOiI4M2NiNWQzNTAxMmVmM2QzYzA3ZmI2M2E5NzZjN2I4NDVjZjA2NmRkZTMyMzMwYzZiMjRhMTM2Nzc1M2QxNDI4IiwicmVxdWVzdFN0YXJ0IjoxNTQ5NDIzNjY5OTk3LCJzZWN1cmUiOmZhbHNlLCJvdXRwdXRGb3JtYXQiOiJuZGpzb24iLCJncm91cCI6bnVsbCwicmVxdWVzdCI6Imh0dHA6Ly9idWxrLWRhdGEuc21hcnRoZWFsdGhpdC5vcmcvZXlKbGNuSWlPaUlpTENKd1lXZGxJam94TURBd01Dd2laSFZ5SWpveE1Dd2lkR3gwSWpveE5Td2liU0k2TVgwL2ZoaXIvUGF0aWVudC8kZXhwb3J0P190eXBlPVBhdGllbnQsSW1tdW5pemF0aW9uJl90eXBlRmlsdGVyPVBhdGllbnQ_Z2VuZGVyPWZlbWFsZSxJbW11bml6YXRpb24_dmFjY2luZS1jb2RlPTE0MCJ9/fhir/bulkstatus\"'}]}"
      ]
     },
     "metadata": {},
     "output_type": "display_data"
    }
   ],
   "source": [
    "import requests\n",
    "import urllib\n",
    "\n",
    "fhir_endpoint = config[\"server\"]\n",
    "export_level = '/Patient/$export'\n",
    "types = [\"Patient\", \"Immunization\"]\n",
    "typeFilters = [\"Patient?gender=female\", \"Immunization?vaccine-code=140\"]\n",
    "\n",
    "headers = {'Accept': 'application/fhir+json', \"Prefer\": 'respond-async'}\n",
    "\n",
    "payload = {'_type': \",\".join(types), '_typeFilter': \",\".join(typeFilters)}\n",
    "payload_str = \"&\".join(\"%s=%s\" % (k,v) for k,v in payload.items())\n",
    "\n",
    "request_url = fhir_endpoint + export_level\n",
    "\n",
    "r = requests.get(request_url, headers=headers, params=payload_str)\n",
    "\n",
    "display(r)\n",
    "display(r.url)\n",
    "display(r.json())"
   ]
  },
  {
   "cell_type": "markdown",
   "metadata": {},
   "source": [
    "## 4. Wait for Data\n",
    "\n",
    "Now that the server is compiling the datasets, we need to wait until the endpoint is ready to send the data. We continuously query the provided location until the server is done."
   ]
  },
  {
   "cell_type": "code",
   "execution_count": 14,
   "metadata": {},
   "outputs": [
    {
     "data": {
      "text/plain": [
       "202"
      ]
     },
     "metadata": {},
     "output_type": "display_data"
    },
    {
     "data": {
      "text/plain": [
       "202"
      ]
     },
     "metadata": {},
     "output_type": "display_data"
    },
    {
     "data": {
      "text/plain": [
       "202"
      ]
     },
     "metadata": {},
     "output_type": "display_data"
    },
    {
     "data": {
      "text/plain": [
       "202"
      ]
     },
     "metadata": {},
     "output_type": "display_data"
    },
    {
     "data": {
      "text/plain": [
       "202"
      ]
     },
     "metadata": {},
     "output_type": "display_data"
    },
    {
     "data": {
      "text/plain": [
       "202"
      ]
     },
     "metadata": {},
     "output_type": "display_data"
    },
    {
     "data": {
      "text/plain": [
       "202"
      ]
     },
     "metadata": {},
     "output_type": "display_data"
    },
    {
     "data": {
      "text/plain": [
       "202"
      ]
     },
     "metadata": {},
     "output_type": "display_data"
    },
    {
     "data": {
      "text/plain": [
       "200"
      ]
     },
     "metadata": {},
     "output_type": "display_data"
    },
    {
     "data": {
      "text/plain": [
       "['https://bulk-data.smarthealthit.org/eyJlcnIiOiIiLCJwYWdlIjoxMDAwMCwiZHVyIjoxMCwidGx0IjoxNSwibSI6MSwidHlwZSI6IlBhdGllbnQsSW1tdW5pemF0aW9uIiwiaWQiOiI4M2NiNWQzNTAxMmVmM2QzYzA3ZmI2M2E5NzZjN2I4NDVjZjA2NmRkZTMyMzMwYzZiMjRhMTM2Nzc1M2QxNDI4IiwicmVxdWVzdFN0YXJ0IjoxNTQ5NDIzNjY5OTk3LCJzZWN1cmUiOmZhbHNlLCJvdXRwdXRGb3JtYXQiOiJuZGpzb24iLCJncm91cCI6bnVsbCwib2Zmc2V0IjowLCJsaW1pdCI6MTAwMDB9/fhir/bulkfiles/1.Immunization.ndjson',\n",
       " 'https://bulk-data.smarthealthit.org/eyJlcnIiOiIiLCJwYWdlIjoxMDAwMCwiZHVyIjoxMCwidGx0IjoxNSwibSI6MSwidHlwZSI6IlBhdGllbnQsSW1tdW5pemF0aW9uIiwiaWQiOiI4M2NiNWQzNTAxMmVmM2QzYzA3ZmI2M2E5NzZjN2I4NDVjZjA2NmRkZTMyMzMwYzZiMjRhMTM2Nzc1M2QxNDI4IiwicmVxdWVzdFN0YXJ0IjoxNTQ5NDIzNjY5OTk3LCJzZWN1cmUiOmZhbHNlLCJvdXRwdXRGb3JtYXQiOiJuZGpzb24iLCJncm91cCI6bnVsbCwib2Zmc2V0IjowLCJsaW1pdCI6MTAwMDB9/fhir/bulkfiles/1.Patient.ndjson']"
      ]
     },
     "metadata": {},
     "output_type": "display_data"
    }
   ],
   "source": [
    "from time import sleep\n",
    "\n",
    "def parse_manifest(response):\n",
    "    return [_.get('url') for _ in response.json()['output']]\n",
    "\n",
    "location = r.headers['Content-Location']\n",
    "\n",
    "while True:\n",
    "    sleep(0.5)\n",
    "    response = requests.get(location)\n",
    "    display(response.status_code)\n",
    "    if response.status_code == 200:\n",
    "        manifest = parse_manifest(response)\n",
    "        break\n",
    "    \n",
    "display(manifest)"
   ]
  },
  {
   "cell_type": "markdown",
   "metadata": {},
   "source": [
    "## Load and Transform the Data\n",
    "\n",
    "Now that we have access to both the patient and immunization data, we should load the data, link patients and vaccinations together, and transform it into a form suitable for analysis. \n"
   ]
  },
  {
   "cell_type": "code",
   "execution_count": 16,
   "metadata": {},
   "outputs": [
    {
     "data": {
      "text/plain": [
       "<map at 0x7f49b58733c8>"
      ]
     },
     "execution_count": 16,
     "metadata": {},
     "output_type": "execute_result"
    }
   ],
   "source": [
    "import json\n",
    "\n",
    "def iterate_over_json(url):\n",
    "    data = requests.get(url)\n",
    "    for item in data.iter_lines():\n",
    "        for item in data.iter_lines():\n",
    "            yield json.loads(item)\n",
    "            \n",
    "\n",
    "json_data = map(iterate_over_json, manifest) \n",
    "\n",
    "json_data\n"
   ]
  },
  {
   "cell_type": "markdown",
   "metadata": {},
   "source": []
  },
  {
   "cell_type": "code",
   "execution_count": 10,
   "metadata": {},
   "outputs": [],
   "source": [
    "import pandas\n",
    "\n"
   ]
  }
 ],
 "metadata": {
  "kernelspec": {
   "display_name": "Python 3",
   "language": "python",
   "name": "python3"
  },
  "language_info": {
   "codemirror_mode": {
    "name": "ipython",
    "version": 3
   },
   "file_extension": ".py",
   "mimetype": "text/x-python",
   "name": "python",
   "nbconvert_exporter": "python",
   "pygments_lexer": "ipython3",
   "version": "3.7.1"
  }
 },
 "nbformat": 4,
 "nbformat_minor": 2
}
